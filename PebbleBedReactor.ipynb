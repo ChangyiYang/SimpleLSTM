{
 "cells": [
  {
   "cell_type": "code",
   "execution_count": 1,
   "metadata": {},
   "outputs": [],
   "source": [
    "# !pip install -r requirements.txt"
   ]
  },
  {
   "cell_type": "code",
   "execution_count": 2,
   "metadata": {},
   "outputs": [],
   "source": [
    "from DataPrepocessing import *\n",
    "from NeuralNets import *\n",
    "from TrainMethod import *\n",
    "\n",
    "import matplotlib.pyplot as plt\n",
    "import torch.optim as optim\n",
    "import torch.nn as nn\n",
    "from functools import partial"
   ]
  },
  {
   "cell_type": "code",
   "execution_count": 3,
   "metadata": {},
   "outputs": [],
   "source": [
    "# data read and preprocessing\n",
    "data = read_csv_as_ndarray(\"data/data_PBMR_400.csv\", [0], [0])\n",
    "data = generate_histogram(data, 1.0e-06, 1.5e-04)\n",
    "data = standarlize(data)"
   ]
  },
  {
   "cell_type": "code",
   "execution_count": 4,
   "metadata": {},
   "outputs": [],
   "source": [
    "# get train and test data\n",
    "training_data = ReactorData(data, sequence_length= 10, start_percent= 0, end_percent= 0.75)\n",
    "testing_data = ReactorData(data, sequence_length= 10, start_percent= 0.75, end_percent= 1)"
   ]
  },
  {
   "cell_type": "code",
   "execution_count": 5,
   "metadata": {},
   "outputs": [],
   "source": [
    "# define neural nets\n",
    "\n",
    "input_dim = training_data[0][0].shape[1]\n",
    "output_dim = training_data[0][1].shape[1]\n",
    "\n",
    "\n",
    "# print(output_dim)\n",
    "\n",
    "# some adjustable hyper-parameters\n",
    "nets_hyper_parameters = {\n",
    "'input_dim' : input_dim,\n",
    "'output_dim' : output_dim,\n",
    "'hidden_dim' : 64,\n",
    "'lstm_nums_layer' : 2,\n",
    "'dropout' : 0.2 \n",
    "}\n",
    "\n",
    "\n",
    "model = SimpleLSTM(**nets_hyper_parameters)"
   ]
  },
  {
   "cell_type": "code",
   "execution_count": 6,
   "metadata": {},
   "outputs": [
    {
     "data": {
      "text/plain": [
       "torch.float64"
      ]
     },
     "execution_count": 6,
     "metadata": {},
     "output_type": "execute_result"
    }
   ],
   "source": [
    "training_data[0][1].dtype"
   ]
  },
  {
   "cell_type": "code",
   "execution_count": 7,
   "metadata": {},
   "outputs": [],
   "source": [
    "\n",
    "optimizer_parameters = {\n",
    "    'params':model.parameters(),\n",
    "    'lr' : 0.01,\n",
    "    'weight_decay' : 0.01\n",
    "}\n",
    "\n",
    "train_parameters = {\n",
    "    'model' : model,\n",
    "    'training_data' : training_data,\n",
    "    'epoch_num': 200,\n",
    "    'batch_size' : 16,\n",
    "    'optimizer' : optim.Adam(**optimizer_parameters),\n",
    "    'loss_fn' : nn.MSELoss(),\n",
    "    'print_out_frequency': 20\n",
    "\n",
    "}\n",
    "\n",
    "\n",
    "# model, _ = train(** train_parameters)"
   ]
  },
  {
   "cell_type": "code",
   "execution_count": 8,
   "metadata": {},
   "outputs": [
    {
     "ename": "ValueError",
     "evalue": "\nAll the 20 fits failed.\nIt is very likely that your model is misconfigured.\nYou can try to debug the error by setting error_score='raise'.\n\nBelow are more details about the failures:\n--------------------------------------------------------------------------------\n20 fits failed with the following error:\nTraceback (most recent call last):\n  File \"d:\\Anaconda\\lib\\site-packages\\sklearn\\model_selection\\_validation.py\", line 684, in _fit_and_score\n    estimator.fit(X_train, **fit_params)\nTypeError: fit() missing 1 required positional argument: 'y'\n",
     "output_type": "error",
     "traceback": [
      "\u001b[1;31m---------------------------------------------------------------------------\u001b[0m",
      "\u001b[1;31mValueError\u001b[0m                                Traceback (most recent call last)",
      "\u001b[1;32mc:\\Users\\86182\\GitHub\\SimpleLSTM\\PebbleBedReactor.ipynb Cell 8\u001b[0m in \u001b[0;36m<cell line: 35>\u001b[1;34m()\u001b[0m\n\u001b[0;32m     <a href='vscode-notebook-cell:/c%3A/Users/86182/GitHub/SimpleLSTM/PebbleBedReactor.ipynb#W6sZmlsZQ%3D%3D?line=23'>24</a>\u001b[0m parameters \u001b[39m=\u001b[39m {\n\u001b[0;32m     <a href='vscode-notebook-cell:/c%3A/Users/86182/GitHub/SimpleLSTM/PebbleBedReactor.ipynb#W6sZmlsZQ%3D%3D?line=24'>25</a>\u001b[0m     \u001b[39m'\u001b[39m\u001b[39mlr\u001b[39m\u001b[39m'\u001b[39m:[\u001b[39m0.01\u001b[39m, \u001b[39m0.001\u001b[39m],\n\u001b[0;32m     <a href='vscode-notebook-cell:/c%3A/Users/86182/GitHub/SimpleLSTM/PebbleBedReactor.ipynb#W6sZmlsZQ%3D%3D?line=25'>26</a>\u001b[0m     \u001b[39m'\u001b[39m\u001b[39mmax_epochs\u001b[39m\u001b[39m'\u001b[39m:[\u001b[39m100\u001b[39m, \u001b[39m200\u001b[39m]\n\u001b[0;32m     <a href='vscode-notebook-cell:/c%3A/Users/86182/GitHub/SimpleLSTM/PebbleBedReactor.ipynb#W6sZmlsZQ%3D%3D?line=26'>27</a>\u001b[0m }\n\u001b[0;32m     <a href='vscode-notebook-cell:/c%3A/Users/86182/GitHub/SimpleLSTM/PebbleBedReactor.ipynb#W6sZmlsZQ%3D%3D?line=28'>29</a>\u001b[0m Search_parameters \u001b[39m=\u001b[39m {\n\u001b[0;32m     <a href='vscode-notebook-cell:/c%3A/Users/86182/GitHub/SimpleLSTM/PebbleBedReactor.ipynb#W6sZmlsZQ%3D%3D?line=29'>30</a>\u001b[0m     \u001b[39m'\u001b[39m\u001b[39mparam_grid\u001b[39m\u001b[39m'\u001b[39m:parameters,\n\u001b[0;32m     <a href='vscode-notebook-cell:/c%3A/Users/86182/GitHub/SimpleLSTM/PebbleBedReactor.ipynb#W6sZmlsZQ%3D%3D?line=30'>31</a>\u001b[0m     \u001b[39m# 'cv' : 5,\u001b[39;00m\n\u001b[0;32m     <a href='vscode-notebook-cell:/c%3A/Users/86182/GitHub/SimpleLSTM/PebbleBedReactor.ipynb#W6sZmlsZQ%3D%3D?line=31'>32</a>\u001b[0m \n\u001b[0;32m     <a href='vscode-notebook-cell:/c%3A/Users/86182/GitHub/SimpleLSTM/PebbleBedReactor.ipynb#W6sZmlsZQ%3D%3D?line=32'>33</a>\u001b[0m }\n\u001b[1;32m---> <a href='vscode-notebook-cell:/c%3A/Users/86182/GitHub/SimpleLSTM/PebbleBedReactor.ipynb#W6sZmlsZQ%3D%3D?line=34'>35</a>\u001b[0m best_model \u001b[39m=\u001b[39m GridSearch(partial_module, Net_parameters, Search_parameters, training_data)\n",
      "File \u001b[1;32mc:\\Users\\86182\\GitHub\\SimpleLSTM\\TrainMethod.py:49\u001b[0m, in \u001b[0;36mGridSearch\u001b[1;34m(model, Net_parameters, Search_parameters, dataset)\u001b[0m\n\u001b[0;32m     45\u001b[0m net \u001b[39m=\u001b[39m NeuralNetRegressor(\u001b[39m*\u001b[39m\u001b[39m*\u001b[39mNet_parameters )\n\u001b[0;32m     47\u001b[0m gs \u001b[39m=\u001b[39m GridSearchCV(net, \u001b[39m*\u001b[39m\u001b[39m*\u001b[39m Search_parameters)\n\u001b[1;32m---> 49\u001b[0m gs\u001b[39m.\u001b[39;49mfit(dataset\u001b[39m.\u001b[39;49mall_data)\n\u001b[0;32m     51\u001b[0m \u001b[39mprint\u001b[39m(\u001b[39m\"\u001b[39m\u001b[39mbest score: \u001b[39m\u001b[39m{:.3f}\u001b[39;00m\u001b[39m, best params: \u001b[39m\u001b[39m{}\u001b[39;00m\u001b[39m\"\u001b[39m\u001b[39m.\u001b[39mformat(gs\u001b[39m.\u001b[39mbest_score_, gs\u001b[39m.\u001b[39mbest_params_))\n\u001b[0;32m     53\u001b[0m \u001b[39mreturn\u001b[39;00m gs\u001b[39m.\u001b[39mbest_estimator_\n",
      "File \u001b[1;32md:\\Anaconda\\lib\\site-packages\\sklearn\\model_selection\\_search.py:874\u001b[0m, in \u001b[0;36mBaseSearchCV.fit\u001b[1;34m(self, X, y, groups, **fit_params)\u001b[0m\n\u001b[0;32m    868\u001b[0m     results \u001b[39m=\u001b[39m \u001b[39mself\u001b[39m\u001b[39m.\u001b[39m_format_results(\n\u001b[0;32m    869\u001b[0m         all_candidate_params, n_splits, all_out, all_more_results\n\u001b[0;32m    870\u001b[0m     )\n\u001b[0;32m    872\u001b[0m     \u001b[39mreturn\u001b[39;00m results\n\u001b[1;32m--> 874\u001b[0m \u001b[39mself\u001b[39;49m\u001b[39m.\u001b[39;49m_run_search(evaluate_candidates)\n\u001b[0;32m    876\u001b[0m \u001b[39m# multimetric is determined here because in the case of a callable\u001b[39;00m\n\u001b[0;32m    877\u001b[0m \u001b[39m# self.scoring the return type is only known after calling\u001b[39;00m\n\u001b[0;32m    878\u001b[0m first_test_score \u001b[39m=\u001b[39m all_out[\u001b[39m0\u001b[39m][\u001b[39m\"\u001b[39m\u001b[39mtest_scores\u001b[39m\u001b[39m\"\u001b[39m]\n",
      "File \u001b[1;32md:\\Anaconda\\lib\\site-packages\\sklearn\\model_selection\\_search.py:1388\u001b[0m, in \u001b[0;36mGridSearchCV._run_search\u001b[1;34m(self, evaluate_candidates)\u001b[0m\n\u001b[0;32m   1386\u001b[0m \u001b[39mdef\u001b[39;00m \u001b[39m_run_search\u001b[39m(\u001b[39mself\u001b[39m, evaluate_candidates):\n\u001b[0;32m   1387\u001b[0m     \u001b[39m\"\"\"Search all candidates in param_grid\"\"\"\u001b[39;00m\n\u001b[1;32m-> 1388\u001b[0m     evaluate_candidates(ParameterGrid(\u001b[39mself\u001b[39;49m\u001b[39m.\u001b[39;49mparam_grid))\n",
      "File \u001b[1;32md:\\Anaconda\\lib\\site-packages\\sklearn\\model_selection\\_search.py:851\u001b[0m, in \u001b[0;36mBaseSearchCV.fit.<locals>.evaluate_candidates\u001b[1;34m(candidate_params, cv, more_results)\u001b[0m\n\u001b[0;32m    844\u001b[0m \u001b[39melif\u001b[39;00m \u001b[39mlen\u001b[39m(out) \u001b[39m!=\u001b[39m n_candidates \u001b[39m*\u001b[39m n_splits:\n\u001b[0;32m    845\u001b[0m     \u001b[39mraise\u001b[39;00m \u001b[39mValueError\u001b[39;00m(\n\u001b[0;32m    846\u001b[0m         \u001b[39m\"\u001b[39m\u001b[39mcv.split and cv.get_n_splits returned \u001b[39m\u001b[39m\"\u001b[39m\n\u001b[0;32m    847\u001b[0m         \u001b[39m\"\u001b[39m\u001b[39minconsistent results. Expected \u001b[39m\u001b[39m{}\u001b[39;00m\u001b[39m \u001b[39m\u001b[39m\"\u001b[39m\n\u001b[0;32m    848\u001b[0m         \u001b[39m\"\u001b[39m\u001b[39msplits, got \u001b[39m\u001b[39m{}\u001b[39;00m\u001b[39m\"\u001b[39m\u001b[39m.\u001b[39mformat(n_splits, \u001b[39mlen\u001b[39m(out) \u001b[39m/\u001b[39m\u001b[39m/\u001b[39m n_candidates)\n\u001b[0;32m    849\u001b[0m     )\n\u001b[1;32m--> 851\u001b[0m _warn_or_raise_about_fit_failures(out, \u001b[39mself\u001b[39;49m\u001b[39m.\u001b[39;49merror_score)\n\u001b[0;32m    853\u001b[0m \u001b[39m# For callable self.scoring, the return type is only know after\u001b[39;00m\n\u001b[0;32m    854\u001b[0m \u001b[39m# calling. If the return type is a dictionary, the error scores\u001b[39;00m\n\u001b[0;32m    855\u001b[0m \u001b[39m# can now be inserted with the correct key. The type checking\u001b[39;00m\n\u001b[0;32m    856\u001b[0m \u001b[39m# of out will be done in `_insert_error_scores`.\u001b[39;00m\n\u001b[0;32m    857\u001b[0m \u001b[39mif\u001b[39;00m callable(\u001b[39mself\u001b[39m\u001b[39m.\u001b[39mscoring):\n",
      "File \u001b[1;32md:\\Anaconda\\lib\\site-packages\\sklearn\\model_selection\\_validation.py:367\u001b[0m, in \u001b[0;36m_warn_or_raise_about_fit_failures\u001b[1;34m(results, error_score)\u001b[0m\n\u001b[0;32m    360\u001b[0m \u001b[39mif\u001b[39;00m num_failed_fits \u001b[39m==\u001b[39m num_fits:\n\u001b[0;32m    361\u001b[0m     all_fits_failed_message \u001b[39m=\u001b[39m (\n\u001b[0;32m    362\u001b[0m         \u001b[39mf\u001b[39m\u001b[39m\"\u001b[39m\u001b[39m\\n\u001b[39;00m\u001b[39mAll the \u001b[39m\u001b[39m{\u001b[39;00mnum_fits\u001b[39m}\u001b[39;00m\u001b[39m fits failed.\u001b[39m\u001b[39m\\n\u001b[39;00m\u001b[39m\"\u001b[39m\n\u001b[0;32m    363\u001b[0m         \u001b[39m\"\u001b[39m\u001b[39mIt is very likely that your model is misconfigured.\u001b[39m\u001b[39m\\n\u001b[39;00m\u001b[39m\"\u001b[39m\n\u001b[0;32m    364\u001b[0m         \u001b[39m\"\u001b[39m\u001b[39mYou can try to debug the error by setting error_score=\u001b[39m\u001b[39m'\u001b[39m\u001b[39mraise\u001b[39m\u001b[39m'\u001b[39m\u001b[39m.\u001b[39m\u001b[39m\\n\u001b[39;00m\u001b[39m\\n\u001b[39;00m\u001b[39m\"\u001b[39m\n\u001b[0;32m    365\u001b[0m         \u001b[39mf\u001b[39m\u001b[39m\"\u001b[39m\u001b[39mBelow are more details about the failures:\u001b[39m\u001b[39m\\n\u001b[39;00m\u001b[39m{\u001b[39;00mfit_errors_summary\u001b[39m}\u001b[39;00m\u001b[39m\"\u001b[39m\n\u001b[0;32m    366\u001b[0m     )\n\u001b[1;32m--> 367\u001b[0m     \u001b[39mraise\u001b[39;00m \u001b[39mValueError\u001b[39;00m(all_fits_failed_message)\n\u001b[0;32m    369\u001b[0m \u001b[39melse\u001b[39;00m:\n\u001b[0;32m    370\u001b[0m     some_fits_failed_message \u001b[39m=\u001b[39m (\n\u001b[0;32m    371\u001b[0m         \u001b[39mf\u001b[39m\u001b[39m\"\u001b[39m\u001b[39m\\n\u001b[39;00m\u001b[39m{\u001b[39;00mnum_failed_fits\u001b[39m}\u001b[39;00m\u001b[39m fits failed out of a total of \u001b[39m\u001b[39m{\u001b[39;00mnum_fits\u001b[39m}\u001b[39;00m\u001b[39m.\u001b[39m\u001b[39m\\n\u001b[39;00m\u001b[39m\"\u001b[39m\n\u001b[0;32m    372\u001b[0m         \u001b[39m\"\u001b[39m\u001b[39mThe score on these train-test partitions for these parameters\u001b[39m\u001b[39m\"\u001b[39m\n\u001b[1;32m   (...)\u001b[0m\n\u001b[0;32m    376\u001b[0m         \u001b[39mf\u001b[39m\u001b[39m\"\u001b[39m\u001b[39mBelow are more details about the failures:\u001b[39m\u001b[39m\\n\u001b[39;00m\u001b[39m{\u001b[39;00mfit_errors_summary\u001b[39m}\u001b[39;00m\u001b[39m\"\u001b[39m\n\u001b[0;32m    377\u001b[0m     )\n",
      "\u001b[1;31mValueError\u001b[0m: \nAll the 20 fits failed.\nIt is very likely that your model is misconfigured.\nYou can try to debug the error by setting error_score='raise'.\n\nBelow are more details about the failures:\n--------------------------------------------------------------------------------\n20 fits failed with the following error:\nTraceback (most recent call last):\n  File \"d:\\Anaconda\\lib\\site-packages\\sklearn\\model_selection\\_validation.py\", line 684, in _fit_and_score\n    estimator.fit(X_train, **fit_params)\nTypeError: fit() missing 1 required positional argument: 'y'\n"
     ]
    }
   ],
   "source": [
    "\n",
    "# some adjustable hyper-parameters\n",
    "nets_hyper_parameters = {\n",
    "'input_dim' : input_dim,\n",
    "'output_dim' : output_dim,\n",
    "}\n",
    "\n",
    "# fix the input_dim and output_dim\n",
    "model = SimpleLSTM(**nets_hyper_parameters)\n",
    "partial_module = partial(model.__init__, **nets_hyper_parameters)\n",
    "\n",
    "\n",
    "\n",
    "Net_parameters = {\n",
    "    'module' : SimpleLSTM,\n",
    "    'max_epochs' : 200,\n",
    "    'lr':1e-4,\n",
    "    # 'optimizer': optim.Adam,\n",
    "    'criterion' : nn.MSELoss,\n",
    "    'verbose':1,\n",
    "    'dataset' : ReactorData\n",
    "\n",
    "}\n",
    "\n",
    "parameters = {\n",
    "    'lr':[0.01, 0.001],\n",
    "    'max_epochs':[100, 200]\n",
    "}\n",
    "\n",
    "Search_parameters = {\n",
    "    'param_grid':parameters,\n",
    "    # 'cv' : 5,\n",
    "\n",
    "}\n",
    "\n",
    "best_model = GridSearch(partial_module, Net_parameters, Search_parameters, training_data)\n",
    "\n"
   ]
  },
  {
   "cell_type": "code",
   "execution_count": null,
   "metadata": {},
   "outputs": [
    {
     "name": "stdout",
     "output_type": "stream",
     "text": [
      "150 1\n"
     ]
    }
   ],
   "source": [
    "print(input_dim, output_dim)"
   ]
  },
  {
   "cell_type": "code",
   "execution_count": null,
   "metadata": {},
   "outputs": [],
   "source": []
  }
 ],
 "metadata": {
  "kernelspec": {
   "display_name": "base",
   "language": "python",
   "name": "python3"
  },
  "language_info": {
   "codemirror_mode": {
    "name": "ipython",
    "version": 3
   },
   "file_extension": ".py",
   "mimetype": "text/x-python",
   "name": "python",
   "nbconvert_exporter": "python",
   "pygments_lexer": "ipython3",
   "version": "3.9.12"
  },
  "orig_nbformat": 4,
  "vscode": {
   "interpreter": {
    "hash": "88279d2366fe020547cde40dd65aa0e3aa662a6ec1f3ca12d88834876c85e1a6"
   }
  }
 },
 "nbformat": 4,
 "nbformat_minor": 2
}
