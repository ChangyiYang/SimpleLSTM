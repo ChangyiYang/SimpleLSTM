{
 "cells": [
  {
   "cell_type": "code",
   "execution_count": 1,
   "metadata": {},
   "outputs": [],
   "source": [
    "from DataPrepocessing import *\n",
    "from NeuralNets import *\n",
    "from TrainMethod import *\n",
    "\n",
    "import matplotlib.pyplot as plt\n",
    "import torch.optim as optim"
   ]
  },
  {
   "cell_type": "code",
   "execution_count": 2,
   "metadata": {},
   "outputs": [],
   "source": [
    "# data read and preprocessing\n",
    "data = read_csv_as_ndarray(\"data/data_PBMR_400.csv\", [0], [0])\n",
    "data = generate_histogram(data, 1.0e-06, 1.5e-04)\n",
    "data = standarlize(data)"
   ]
  },
  {
   "cell_type": "code",
   "execution_count": 3,
   "metadata": {},
   "outputs": [],
   "source": [
    "# get train and test data\n",
    "training_data = ReactorData(data, sequence_length= 10, start_percent= 0, end_percent= 0.75)\n",
    "testing_data = ReactorData(data, sequence_length= 10, start_percent= 0.75, end_percent= 1)"
   ]
  },
  {
   "cell_type": "code",
   "execution_count": 4,
   "metadata": {},
   "outputs": [],
   "source": [
    "# define neural nets\n",
    "\n",
    "input_dim = training_data[0][0].shape[1]\n",
    "output_dim = training_data[0][1].shape[1]\n",
    "\n",
    "\n",
    "# print(output_dim)\n",
    "\n",
    "# some adjustable hyper-parameters\n",
    "nets_hyper_parameters = {\n",
    "'input_dim' : input_dim,\n",
    "'output_dim' : output_dim,\n",
    "'hidden_dim' : 64,\n",
    "'lstm_nums_layer' : 2,\n",
    "'dropout' : 0.2 \n",
    "}\n",
    "\n",
    "\n",
    "model = SimpleLSTM(**nets_hyper_parameters)"
   ]
  },
  {
   "cell_type": "code",
   "execution_count": 5,
   "metadata": {},
   "outputs": [
    {
     "data": {
      "text/plain": [
       "torch.float64"
      ]
     },
     "execution_count": 5,
     "metadata": {},
     "output_type": "execute_result"
    }
   ],
   "source": [
    "training_data[0][1].dtype"
   ]
  },
  {
   "cell_type": "code",
   "execution_count": 6,
   "metadata": {},
   "outputs": [
    {
     "name": "stdout",
     "output_type": "stream",
     "text": [
      "The loss is 0.15394248420475645 in epoch 0\n",
      "The loss is 0.017289050041807294 in epoch 20\n",
      "The loss is 0.0086613050162853 in epoch 40\n",
      "The loss is 0.007555932262794542 in epoch 60\n",
      "The loss is 0.004433260528675954 in epoch 80\n",
      "The loss is 0.0037104898325982932 in epoch 100\n",
      "The loss is 0.012534239091203792 in epoch 120\n",
      "The loss is 0.019836506221006207 in epoch 140\n",
      "The loss is 0.06405684972034882 in epoch 160\n",
      "The loss is 0.008713004758515646 in epoch 180\n",
      "Training is finished, the final loss is 0.005250970094998016\n"
     ]
    },
    {
     "data": {
      "text/plain": [
       "SimpleLSTM(\n",
       "  (LSTM): LSTM(150, 64, num_layers=2, batch_first=True)\n",
       "  (dropout): Dropout(p=0.2, inplace=False)\n",
       "  (hidden_to_output): Linear(in_features=64, out_features=1, bias=True)\n",
       ")"
      ]
     },
     "execution_count": 6,
     "metadata": {},
     "output_type": "execute_result"
    }
   ],
   "source": [
    "\n",
    "optimizer_parameters = {\n",
    "    'params':model.parameters(),\n",
    "    'lr' : 0.01,\n",
    "    'weight_decay' : 0.01\n",
    "}\n",
    "\n",
    "train_parameters = {\n",
    "    'model' : model,\n",
    "    'training_data' : training_data,\n",
    "    'epoch_num': 200,\n",
    "    'batch_size' : 16,\n",
    "    'optimizer' : optim.Adam(**optimizer_parameters),\n",
    "    'loss_fn' : nn.MSELoss(),\n",
    "    'print_out_frequency': 20\n",
    "\n",
    "}\n",
    "\n",
    "\n",
    "model, _ = train(** train_parameters)"
   ]
  },
  {
   "cell_type": "code",
   "execution_count": null,
   "metadata": {},
   "outputs": [],
   "source": []
  }
 ],
 "metadata": {
  "kernelspec": {
   "display_name": "base",
   "language": "python",
   "name": "python3"
  },
  "language_info": {
   "codemirror_mode": {
    "name": "ipython",
    "version": 3
   },
   "file_extension": ".py",
   "mimetype": "text/x-python",
   "name": "python",
   "nbconvert_exporter": "python",
   "pygments_lexer": "ipython3",
   "version": "3.9.12"
  },
  "orig_nbformat": 4,
  "vscode": {
   "interpreter": {
    "hash": "88279d2366fe020547cde40dd65aa0e3aa662a6ec1f3ca12d88834876c85e1a6"
   }
  }
 },
 "nbformat": 4,
 "nbformat_minor": 2
}
