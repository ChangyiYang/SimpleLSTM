{
 "cells": [
  {
   "cell_type": "code",
   "execution_count": 2,
   "metadata": {},
   "outputs": [],
   "source": [
    "# This notebook is aimed to deal with the transiant state"
   ]
  },
  {
   "cell_type": "code",
   "execution_count": 3,
   "metadata": {},
   "outputs": [],
   "source": [
    "from DataPrepocessing import *\n",
    "from NeuralNets import *\n",
    "from TrainMethod import *\n",
    "\n",
    "import matplotlib.pyplot as plt\n",
    "import torch.optim as optim\n",
    "import torch.nn as nn\n",
    "import pandas as pd\n",
    "from sklearn.preprocessing import StandardScaler"
   ]
  },
  {
   "attachments": {},
   "cell_type": "markdown",
   "metadata": {},
   "source": [
    "### Some pre-defined parameters"
   ]
  },
  {
   "cell_type": "code",
   "execution_count": 4,
   "metadata": {},
   "outputs": [],
   "source": [
    "sequence_length = 10\n",
    "batch_size = 4"
   ]
  },
  {
   "cell_type": "code",
   "execution_count": 5,
   "metadata": {},
   "outputs": [],
   "source": [
    "# first,read the data and do some data analysis"
   ]
  },
  {
   "attachments": {},
   "cell_type": "markdown",
   "metadata": {},
   "source": [
    "### Do the data prepocessing"
   ]
  },
  {
   "cell_type": "code",
   "execution_count": 6,
   "metadata": {},
   "outputs": [],
   "source": [
    "P1T1_to_P06T1 = pd.read_csv('./transiant_data/P1T1_to_P0.6T1.csv', index_col= 0)"
   ]
  },
  {
   "cell_type": "code",
   "execution_count": 7,
   "metadata": {},
   "outputs": [
    {
     "data": {
      "text/plain": [
       "Index(['keff', 'keff_relative_uncertainty', 'keff_absolute_uncertainty',\n",
       "       'Cs137_0 [at/b.cm]', 'Cs137_1 [at/b.cm]', 'Cs137_2 [at/b.cm]',\n",
       "       'Cs137_3 [at/b.cm]', 'Cs137_4 [at/b.cm]', 'Cs137_5 [at/b.cm]',\n",
       "       'Cs137_6 [at/b.cm]',\n",
       "       ...\n",
       "       'Cs137_824 [at/b.cm]', 'Cs137_825 [at/b.cm]', 'Cs137_826 [at/b.cm]',\n",
       "       'Cs137_827 [at/b.cm]', 'Cs137_828 [at/b.cm]', 'Cs137_829 [at/b.cm]',\n",
       "       'Cs137_830 [at/b.cm]', 'Cs137_831 [at/b.cm]', 'Cs137_832 [at/b.cm]',\n",
       "       'Cs137_833 [at/b.cm]'],\n",
       "      dtype='object', length=837)"
      ]
     },
     "execution_count": 7,
     "metadata": {},
     "output_type": "execute_result"
    }
   ],
   "source": [
    "P1T1_to_P06T1.columns"
   ]
  },
  {
   "cell_type": "code",
   "execution_count": 8,
   "metadata": {},
   "outputs": [],
   "source": [
    "def process(df):\n",
    "    # read in a pandas frame, remove the keff_relative_uncertainty and keff_absolute_uncertainty\n",
    "    # return the keff and the data columns\n",
    "\n",
    "    df = df.drop('keff_relative_uncertainty',axis = 1)\n",
    "    df = df.drop('keff_absolute_uncertainty', axis = 1)\n",
    "\n",
    "    keff = df.pop('keff')\n",
    "\n",
    "    # print(type(df))\n",
    "\n",
    "    return keff, df"
   ]
  },
  {
   "cell_type": "code",
   "execution_count": 9,
   "metadata": {},
   "outputs": [
    {
     "data": {
      "text/plain": [
       "Index(['Cs137_0 [at/b.cm]', 'Cs137_1 [at/b.cm]', 'Cs137_2 [at/b.cm]',\n",
       "       'Cs137_3 [at/b.cm]', 'Cs137_4 [at/b.cm]', 'Cs137_5 [at/b.cm]',\n",
       "       'Cs137_6 [at/b.cm]', 'Cs137_7 [at/b.cm]', 'Cs137_8 [at/b.cm]',\n",
       "       'Cs137_9 [at/b.cm]',\n",
       "       ...\n",
       "       'Cs137_824 [at/b.cm]', 'Cs137_825 [at/b.cm]', 'Cs137_826 [at/b.cm]',\n",
       "       'Cs137_827 [at/b.cm]', 'Cs137_828 [at/b.cm]', 'Cs137_829 [at/b.cm]',\n",
       "       'Cs137_830 [at/b.cm]', 'Cs137_831 [at/b.cm]', 'Cs137_832 [at/b.cm]',\n",
       "       'Cs137_833 [at/b.cm]'],\n",
       "      dtype='object', length=834)"
      ]
     },
     "execution_count": 9,
     "metadata": {},
     "output_type": "execute_result"
    }
   ],
   "source": [
    "keff, data = process(P1T1_to_P06T1)\n",
    "\n",
    "data.columns\n"
   ]
  },
  {
   "cell_type": "code",
   "execution_count": 10,
   "metadata": {},
   "outputs": [
    {
     "data": {
      "text/plain": [
       "[<matplotlib.lines.Line2D at 0x29961e3d790>]"
      ]
     },
     "execution_count": 10,
     "metadata": {},
     "output_type": "execute_result"
    },
    {
     "data": {
      "image/png": "[encoded data removed]",
      "text/plain": [
       "<Figure size 432x288 with 1 Axes>"
      ]
     },
     "metadata": {
      "needs_background": "light"
     },
     "output_type": "display_data"
    }
   ],
   "source": [
    "plt.plot(keff)"
   ]
  },
  {
   "cell_type": "code",
   "execution_count": 11,
   "metadata": {},
   "outputs": [],
   "source": [
    "def generate_histogram(data: np.ndarray, binInt = 1.0e-06, binMax = 1.5e-04):\n",
    "    '''\n",
    "    Take in a data with columns are features  Transform the features with histogram method\n",
    "    '''\n",
    "\n",
    "    # Extract data\n",
    "    Xvals = data\n",
    "\n",
    "    nRows, nCols = Xvals.shape\n",
    "\n",
    "    # define bins\n",
    "    hEdges = np.arange(0, binMax+binInt, binInt)\n",
    "    nBins = len(hEdges)-1\n",
    "\n",
    "\n",
    "    # fill histogram matrix\n",
    "    nCountsX = np.zeros((nRows, nBins), dtype=np.uint16)\n",
    "    for n in range(nRows):\n",
    "        nCountsX[n,:], _ = np.histogram(Xvals[n,:], hEdges)\n",
    "    return nCountsX"
   ]
  },
  {
   "cell_type": "code",
   "execution_count": 12,
   "metadata": {},
   "outputs": [],
   "source": [
    "hist_data = generate_histogram(data.to_numpy())"
   ]
  },
  {
   "cell_type": "code",
   "execution_count": 13,
   "metadata": {},
   "outputs": [
    {
     "data": {
      "text/plain": [
       "Cs137_0 [at/b.cm]     NaN\n",
       "Cs137_1 [at/b.cm]     NaN\n",
       "Cs137_2 [at/b.cm]     NaN\n",
       "Cs137_3 [at/b.cm]     NaN\n",
       "Cs137_4 [at/b.cm]     NaN\n",
       "                       ..\n",
       "Cs137_829 [at/b.cm]   NaN\n",
       "Cs137_830 [at/b.cm]   NaN\n",
       "Cs137_831 [at/b.cm]   NaN\n",
       "Cs137_832 [at/b.cm]   NaN\n",
       "Cs137_833 [at/b.cm]   NaN\n",
       "Name: 650, Length: 834, dtype: float64"
      ]
     },
     "execution_count": 13,
     "metadata": {},
     "output_type": "execute_result"
    }
   ],
   "source": [
    "data.iloc[0,:]"
   ]
  },
  {
   "cell_type": "code",
   "execution_count": 14,
   "metadata": {},
   "outputs": [
    {
     "data": {
      "text/plain": [
       "array([0, 0, 0, 0, 0, 0, 0, 0, 0, 0, 0, 0, 0, 0, 0, 0, 0, 0, 0, 0, 0, 0,\n",
       "       0, 0, 0, 0, 0, 0, 0, 0, 0, 0, 0, 0, 0, 0, 0, 0, 0, 0, 0, 0, 0, 0,\n",
       "       0, 0, 0, 0, 0, 0, 0, 0, 0, 0, 0, 0, 0, 0, 0, 0, 0, 0, 0, 0, 0, 0,\n",
       "       0, 0, 0, 0, 0, 0, 0, 0, 0, 0, 0, 0, 0, 0, 0, 0, 0, 0, 0, 0, 0, 0,\n",
       "       0, 0, 0, 0, 0, 0, 0, 0, 0, 0, 0, 0, 0, 0, 0, 0, 0, 0, 0, 0, 0, 0,\n",
       "       0, 0, 0, 0, 0, 0, 0, 0, 0, 0, 0, 0, 0, 0, 0, 0, 0, 0, 0, 0, 0, 0,\n",
       "       0, 0, 0, 0, 0, 0, 0, 0, 0, 0, 0, 0, 0, 0, 0, 0, 0, 0], dtype=uint16)"
      ]
     },
     "execution_count": 14,
     "metadata": {},
     "output_type": "execute_result"
    }
   ],
   "source": [
    "hist_data[0] # this is super wired, all cs in first row is nan"
   ]
  },
  {
   "cell_type": "code",
   "execution_count": 15,
   "metadata": {},
   "outputs": [
    {
     "name": "stdout",
     "output_type": "stream",
     "text": [
      "(349,)\n",
      "(349, 150)\n"
     ]
    }
   ],
   "source": [
    "# align the data such that each row is a keff and the cesian concetration from last step\n",
    "\n",
    "# delete the fist element in keff\n",
    "\n",
    "keff = keff.to_numpy()\n",
    "keff = keff[1:]\n",
    "print(keff.shape)\n",
    "\n",
    "# delete the last row in hist_data\n",
    "\n",
    "hist_data = hist_data[:-1]\n",
    "print(hist_data.shape)"
   ]
  },
  {
   "cell_type": "code",
   "execution_count": 16,
   "metadata": {},
   "outputs": [
    {
     "data": {
      "text/plain": [
       "'\\na reminder, shoule we remove the first column since all cs is 0?\\n'"
      ]
     },
     "execution_count": 16,
     "metadata": {},
     "output_type": "execute_result"
    }
   ],
   "source": [
    "'''\n",
    "a reminder, shoule we remove the first column since all cs is 0?\n",
    "'''"
   ]
  },
  {
   "cell_type": "code",
   "execution_count": 17,
   "metadata": {},
   "outputs": [
    {
     "data": {
      "text/plain": [
       "(349, 151)"
      ]
     },
     "execution_count": 17,
     "metadata": {},
     "output_type": "execute_result"
    }
   ],
   "source": [
    "# Then, we concentrate keff and data together\n",
    "\n",
    "all_data = np.append(hist_data, keff.reshape(-1,1), axis=1)\n",
    "all_data.shape"
   ]
  },
  {
   "cell_type": "code",
   "execution_count": 18,
   "metadata": {},
   "outputs": [],
   "source": [
    "# cut the data length so it can fit time sequence length, which is 10\n",
    "\n",
    "\n",
    "\n",
    "all_data = all_data[: len(all_data)//sequence_length * sequence_length]"
   ]
  },
  {
   "cell_type": "code",
   "execution_count": 19,
   "metadata": {},
   "outputs": [],
   "source": [
    "# add power and threshold\n",
    "\n",
    "\n",
    "# keep the first 50 as 1 since all power and thereshold are 1\n",
    "def add_one_column_after_50 (arr,new_col_value):\n",
    "    # Create a new column of single value to add to the front of the array\n",
    "    new_col = np.concatenate((np.ones(50), np.full((arr.shape[0]-50,), new_col_value)))\n",
    "\n",
    "    # Use insert to insert the new column to the front of the array\n",
    "    new_arr = np.insert(arr, 0, new_col, axis=1)\n",
    "\n",
    "    return new_arr\n",
    "\n",
    "def add_Power_and_Threshold(arr, p = 1, t = 1):\n",
    "    arr = add_one_column_after_50(arr, p)\n",
    "    arr = add_one_column_after_50(arr, t)\n",
    "\n",
    "    return arr\n",
    "\n",
    "all_data = add_Power_and_Threshold(all_data, 0.6, 1)\n",
    "\n",
    "\n",
    "\n"
   ]
  },
  {
   "cell_type": "code",
   "execution_count": 20,
   "metadata": {},
   "outputs": [],
   "source": [
    "# combine all the above step\n",
    "\n",
    "def get_data(filename, p =1, t = 1):\n",
    "    df = pd.read_csv(filename, index_col= 0)\n",
    "\n",
    "    keff, data = process(df)\n",
    "    hist_data = generate_histogram(data.to_numpy())\n",
    "\n",
    "    # delete the fist element in keff\n",
    "\n",
    "    keff = keff.to_numpy()\n",
    "    keff = keff[1:]\n",
    "    # print(keff.shape)\n",
    "\n",
    "    # delete the last row in hist_data\n",
    "\n",
    "    hist_data = hist_data[:-1]\n",
    "    # print(hist_data.shape)\n",
    "\n",
    "    all_data = np.append(hist_data, keff.reshape(-1,1), axis=1)\n",
    "\n",
    "\n",
    "    all_data = all_data[: len(all_data)//sequence_length * sequence_length]\n",
    "\n",
    "    all_data = add_Power_and_Threshold(all_data, p ,t)\n",
    "\n",
    "    return all_data\n",
    "    \n"
   ]
  },
  {
   "cell_type": "code",
   "execution_count": 21,
   "metadata": {},
   "outputs": [],
   "source": [
    "# lets get the data\n",
    "\n",
    "P1T1_to_P06T1 = get_data('./transiant_data/P1T1_to_P0.6T1.csv',0.6,1)\n",
    "\n",
    "P1T1_to_P08T1 = get_data('./transiant_data/P1T1_to_P0.8T1.csv',0.8,1)\n",
    "\n",
    "P1T1_to_P1T11 = get_data('./transiant_data/P1T1_to_P1T1.1.csv',1,1.1)\n",
    "\n",
    "P1T1_to_P1T09 = get_data('./transiant_data/P1T1_to_P1T0.9.csv',1,0.9)\n",
    "\n",
    "\n"
   ]
  },
  {
   "cell_type": "code",
   "execution_count": 22,
   "metadata": {},
   "outputs": [
    {
     "data": {
      "text/plain": [
       "(340, 153)"
      ]
     },
     "execution_count": 22,
     "metadata": {},
     "output_type": "execute_result"
    }
   ],
   "source": [
    "P1T1_to_P06T1.shape"
   ]
  },
  {
   "cell_type": "code",
   "execution_count": 23,
   "metadata": {},
   "outputs": [
    {
     "data": {
      "text/plain": [
       "(1360, 153)"
      ]
     },
     "execution_count": 23,
     "metadata": {},
     "output_type": "execute_result"
    }
   ],
   "source": [
    "# concentrate all data together and do the standarlize\n",
    "add_order = [P1T1_to_P06T1,P1T1_to_P08T1,P1T1_to_P1T11,P1T1_to_P1T09]\n",
    "all_data = np.concatenate(add_order, axis=0)\n",
    "all_data.shape"
   ]
  },
  {
   "cell_type": "code",
   "execution_count": 24,
   "metadata": {},
   "outputs": [
    {
     "data": {
      "text/plain": [
       "[<matplotlib.lines.Line2D at 0x29961230be0>]"
      ]
     },
     "execution_count": 24,
     "metadata": {},
     "output_type": "execute_result"
    },
    {
     "data": {
      "image/png": "[encoded data removed]",
      "text/plain": [
       "<Figure size 432x288 with 1 Axes>"
      ]
     },
     "metadata": {
      "needs_background": "light"
     },
     "output_type": "display_data"
    }
   ],
   "source": [
    "plt.plot(all_data[:,-1])"
   ]
  },
  {
   "attachments": {},
   "cell_type": "markdown",
   "metadata": {},
   "source": [
    "### Add stable data"
   ]
  },
  {
   "cell_type": "code",
   "execution_count": 25,
   "metadata": {},
   "outputs": [
    {
     "name": "stdout",
     "output_type": "stream",
     "text": [
      "(1600, 153)\n"
     ]
    }
   ],
   "source": [
    "# then, we need to add the stable data to the training set\n",
    "stable_data = np.loadtxt('stable_data.csv', delimiter= ',', dtype= np.float64)\n",
    "print(stable_data.shape)"
   ]
  },
  {
   "cell_type": "code",
   "execution_count": 26,
   "metadata": {},
   "outputs": [],
   "source": [
    "all_data = np.concatenate([all_data, stable_data], axis = 0)"
   ]
  },
  {
   "attachments": {},
   "cell_type": "markdown",
   "metadata": {},
   "source": [
    "### Do the standarlize"
   ]
  },
  {
   "cell_type": "code",
   "execution_count": 27,
   "metadata": {},
   "outputs": [],
   "source": [
    "data = all_data\n",
    "\n",
    "ss = StandardScaler()\n",
    "\n",
    "data = ss.fit_transform(data)\n",
    "\n",
    "\n",
    "clean_data = data.copy()"
   ]
  },
  {
   "cell_type": "code",
   "execution_count": 28,
   "metadata": {},
   "outputs": [
    {
     "data": {
      "text/plain": [
       "[<matplotlib.lines.Line2D at 0x29961f7d8b0>]"
      ]
     },
     "execution_count": 28,
     "metadata": {},
     "output_type": "execute_result"
    },
    {
     "data": {
      "image/png": "[encoded data removed]",
      "text/plain": [
       "<Figure size 432x288 with 1 Axes>"
      ]
     },
     "metadata": {
      "needs_background": "light"
     },
     "output_type": "display_data"
    }
   ],
   "source": [
    "plt.plot(data[:,-1])"
   ]
  },
  {
   "cell_type": "code",
   "execution_count": 29,
   "metadata": {},
   "outputs": [],
   "source": [
    "# define the training and testing set\n",
    "training_data = ReactorData(data,sequence_length,0,1)\n",
    "\n",
    "\n",
    "testing_data = ReactorData(data,sequence_length,0.75,1)\n",
    "\n",
    "training_and_testing_data = ReactorData(data,sequence_length,0,1)"
   ]
  },
  {
   "attachments": {},
   "cell_type": "markdown",
   "metadata": {},
   "source": [
    "### Training "
   ]
  },
  {
   "cell_type": "code",
   "execution_count": 30,
   "metadata": {},
   "outputs": [],
   "source": [
    "# define neural nets\n",
    "\n",
    "input_dim = training_data[0][0].shape[1]\n",
    "\n",
    "\n",
    "\n",
    "# print(output_dim)\n",
    "\n",
    "# some adjustable hyper-parameters\n",
    "nets_hyper_parameters = {\n",
    "'input_dim' : input_dim,\n",
    "'output_dim' : 1,\n",
    "'hidden_dim' : 256,\n",
    "'lstm_nums_layer' : 2,\n",
    "'dropout' : 0.2 \n",
    "}\n",
    "\n",
    "\n",
    "model = SimpleLSTM(**nets_hyper_parameters)"
   ]
  },
  {
   "cell_type": "code",
   "execution_count": 31,
   "metadata": {},
   "outputs": [
    {
     "name": "stdout",
     "output_type": "stream",
     "text": [
      "The loss is 0.17732866061650554 in epoch 0\n",
      "The loss is 0.0668709403033326 in epoch 20\n",
      "The loss is 0.29285090146040166 in epoch 40\n",
      "The loss is 0.0484170928358923 in epoch 60\n",
      "The loss is 0.07131598842595754 in epoch 80\n",
      "The loss is 0.10304292381147359 in epoch 100\n",
      "The loss is 0.18287726153062725 in epoch 120\n",
      "The loss is 0.06368568625755 in epoch 140\n",
      "The loss is 0.08689631889238701 in epoch 160\n",
      "The loss is 0.11194082165712524 in epoch 180\n",
      "Training is finished, the final loss is 0.036970044195152416\n"
     ]
    }
   ],
   "source": [
    "optimizer_parameters = {\n",
    "    'params':model.parameters(),\n",
    "    'lr' : 0.001,\n",
    "    'weight_decay' : 0.01\n",
    "}\n",
    "\n",
    "\n",
    "train_parameters = {\n",
    "    'model' : model,\n",
    "    'training_data' : training_data,\n",
    "    'epoch_num': 200,\n",
    "    'batch_size':batch_size,\n",
    "    'optimizer' : optim.Adam(**optimizer_parameters),\n",
    "    'loss_fn' : nn.MSELoss(),\n",
    "    'print_out_frequency': 20,\n",
    "    'shuffle': True\n",
    "\n",
    "}\n",
    "\n",
    "\n",
    "model, _ = train(** train_parameters)"
   ]
  },
  {
   "attachments": {},
   "cell_type": "markdown",
   "metadata": {},
   "source": [
    "### Visualize the traning result"
   ]
  },
  {
   "cell_type": "code",
   "execution_count": 39,
   "metadata": {},
   "outputs": [],
   "source": [
    "import torch\n",
    "from torch.utils.data import DataLoader\n",
    "import matplotlib.pyplot as plt\n",
    "\n",
    "def eval(data, batch_size, sequence_length):\n",
    "    # Assuming you have a DataSet object called 'training_data' and a trained model called 'model'\n",
    "    training_set = data\n",
    "    # Step 1: Create a DataLoader from your DataSet object\n",
    "    batch_size = batch_size  # Adjust this value based on your model's input requirements\n",
    "    train_loader = DataLoader(training_set, batch_size=batch_size, shuffle=False)\n",
    "\n",
    "    # Step 2 & 3: Iterate through the DataLoader and collect predictions and true labels\n",
    "    predictions = []\n",
    "    true_labels = []\n",
    "\n",
    "    sequence_length = sequence_length  # Assuming a sequence length of 10\n",
    "\n",
    "    model.eval()  # Set the model to evaluation mode\n",
    "    with torch.no_grad():  # Disable gradient calculation\n",
    "        for inputs, labels in train_loader:\n",
    "            # Pass the input data to the trained model and collect the predictions\n",
    "            preds = model(inputs)\n",
    "            preds = preds.reshape(-1, sequence_length)  # Reshape the predictions to (batch_size, sequence_length, output_dim)\n",
    "            predictions.extend(preds.squeeze().view(-1).tolist())  # Flatten the predictions\n",
    "            true_labels.extend(labels.squeeze().view(-1).tolist())  # Flatten the true labels\n",
    "\n",
    "    # Step 4: Plot the predictions and true labels for comparison\n",
    "    plt.figure()\n",
    "    plt.xlabel('Timestamp')\n",
    "    plt.ylabel('Keff')\n",
    "    plt.plot(true_labels, label=\"Real\")\n",
    "    plt.plot(predictions, label=\"Predict\", alpha = 0.7)\n",
    "    plt.legend()\n",
    "    plt.show()\n",
    "\n",
    "    return np.array(true_labels), np.array(predictions)\n"
   ]
  },
  {
   "cell_type": "code",
   "execution_count": 40,
   "metadata": {},
   "outputs": [
    {
     "data": {
      "image/png": "[encoded data removed]",
      "text/plain": [
       "<Figure size 432x288 with 1 Axes>"
      ]
     },
     "metadata": {
      "needs_background": "light"
     },
     "output_type": "display_data"
    }
   ],
   "source": [
    "training_label, training_pred =  eval(training_data, batch_size, sequence_length)"
   ]
  },
  {
   "cell_type": "code",
   "execution_count": 41,
   "metadata": {},
   "outputs": [
    {
     "data": {
      "image/png": "[encoded data removed]",
      "text/plain": [
       "<Figure size 432x288 with 1 Axes>"
      ]
     },
     "metadata": {
      "needs_background": "light"
     },
     "output_type": "display_data"
    }
   ],
   "source": [
    "all_label, all_pred =  eval(training_and_testing_data, batch_size, sequence_length)"
   ]
  },
  {
   "cell_type": "code",
   "execution_count": 43,
   "metadata": {},
   "outputs": [
    {
     "data": {
      "text/plain": [
       "<matplotlib.legend.Legend at 0x29968ad3190>"
      ]
     },
     "execution_count": 43,
     "metadata": {},
     "output_type": "execute_result"
    },
    {
     "data": {
      "image/png": "[encoded data removed]",
      "text/plain": [
       "<Figure size 432x288 with 1 Axes>"
      ]
     },
     "metadata": {
      "needs_background": "light"
     },
     "output_type": "display_data"
    }
   ],
   "source": [
    "# change to the original unit\n",
    "true_labels = all_label\n",
    "predictions = all_pred\n",
    "X = training_and_testing_data.unshaped_data\n",
    "\n",
    "result_y = np.append(X, true_labels.reshape(-1,1), axis=1)\n",
    "result_predict = np.append(X, predictions.reshape(-1,1), axis=1)\n",
    "\n",
    "y = ss.inverse_transform(result_y)\n",
    "predict = ss.inverse_transform(result_predict)\n",
    "\n",
    "plt.figure()\n",
    "plt.ylim((0.9,1))\n",
    "plt.plot(y[:,-1], label = \"Real\")     \n",
    "plt.plot(predict[:,-1], label = \"Predict\", alpha = 0.6)\n",
    "plt.legend()\n"
   ]
  },
  {
   "cell_type": "code",
   "execution_count": null,
   "metadata": {},
   "outputs": [
    {
     "data": {
      "text/plain": [
       "'\\nsome points\\n\\nshould add some stable data?\\nshould increse model size?\\nshould do some more data prepocessing?\\nshould use pre-trained model?\\n'"
      ]
     },
     "execution_count": 225,
     "metadata": {},
     "output_type": "execute_result"
    }
   ],
   "source": [
    "'''\n",
    "some points\n",
    "\n",
    "should add some stable data?\n",
    "should increse model size?\n",
    "should do some more data prepocessing?\n",
    "should use pre-trained model?\n",
    "'''"
   ]
  },
  {
   "cell_type": "code",
   "execution_count": null,
   "metadata": {},
   "outputs": [],
   "source": []
  }
 ],
 "metadata": {
  "kernelspec": {
   "display_name": "Python 3",
   "language": "python",
   "name": "python3"
  },
  "language_info": {
   "codemirror_mode": {
    "name": "ipython",
    "version": 3
   },
   "file_extension": ".py",
   "mimetype": "text/x-python",
   "name": "python",
   "nbconvert_exporter": "python",
   "pygments_lexer": "ipython3",
   "version": "3.9.12"
  }
 },
 "nbformat": 4,
 "nbformat_minor": 2
}
