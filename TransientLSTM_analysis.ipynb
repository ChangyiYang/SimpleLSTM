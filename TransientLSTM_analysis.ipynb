{
 "cells": [
  {
   "cell_type": "code",
   "execution_count": 1,
   "metadata": {},
   "outputs": [],
   "source": [
    "# This notebook is aimed to deal with the transiant state"
   ]
  },
  {
   "cell_type": "code",
   "execution_count": 2,
   "metadata": {},
   "outputs": [],
   "source": [
    "from DataPrepocessing import *\n",
    "from NeuralNets import *\n",
    "from TrainMethod import *\n",
    "\n",
    "import matplotlib.pyplot as plt\n",
    "import torch.optim as optim\n",
    "import torch.nn as nn\n",
    "import pandas as pd\n",
    "from sklearn.preprocessing import StandardScaler"
   ]
  },
  {
   "cell_type": "code",
   "execution_count": 3,
   "metadata": {},
   "outputs": [],
   "source": [
    "batch_size = 16 \n",
    "sequence_length = 10\n",
    "input_dim = 152"
   ]
  },
  {
   "cell_type": "code",
   "execution_count": 4,
   "metadata": {},
   "outputs": [
    {
     "ename": "",
     "evalue": "",
     "output_type": "error",
     "traceback": [
      "\u001b[1;31mCanceled future for execute_request message before replies were done"
     ]
    },
    {
     "ename": "",
     "evalue": "",
     "output_type": "error",
     "traceback": [
      "\u001b[1;31mThe Kernel crashed while executing code in the the current cell or a previous cell. Please review the code in the cell(s) to identify a possible cause of the failure. Click <a href='https://aka.ms/vscodeJupyterKernelCrash'>here</a> for more info. View Jupyter <a href='command:jupyter.viewOutput'>log</a> for further details."
     ]
    }
   ],
   "source": [
    "# input_dim, hidden_dim, output_dim, lstm_nums_layer, dropout\n",
    "model = SimpleLSTM(input_dim, 128,1, 2, 0.05)\n",
    "\n",
    "model.load_state_dict(torch.load('simple_best.pth'))\n",
    "model.to(torch.double)\n",
    "model.eval()"
   ]
  },
  {
   "cell_type": "code",
   "execution_count": null,
   "metadata": {},
   "outputs": [],
   "source": [
    "import torch\n",
    "from torch.utils.data import DataLoader\n",
    "import matplotlib.pyplot as plt\n",
    "\n",
    "def eval(data, batch_size, sequence_length):\n",
    "    # Assuming you have a DataSet object called 'training_data' and a trained model called 'model'\n",
    "    training_set = data\n",
    "    # Step 1: Create a DataLoader from your DataSet object\n",
    "    batch_size = batch_size  # Adjust this value based on your model's input requirements\n",
    "    train_loader = DataLoader(training_set, batch_size=batch_size, shuffle=False)\n",
    "\n",
    "    # Step 2 & 3: Iterate through the DataLoader and collect predictions and true labels\n",
    "    predictions = []\n",
    "    true_labels = []\n",
    "\n",
    "    sequence_length = sequence_length  # Assuming a sequence length of 10\n",
    "\n",
    "    model.eval()  # Set the model to evaluation mode\n",
    "    with torch.no_grad():  # Disable gradient calculation\n",
    "        for inputs, labels in train_loader:\n",
    "            # Pass the input data to the trained model and collect the predictions\n",
    "            preds = model(inputs)\n",
    "            preds = preds.reshape(-1, sequence_length)  # Reshape the predictions to (batch_size, sequence_length, output_dim)\n",
    "            predictions.extend(preds.squeeze().view(-1).tolist())  # Flatten the predictions\n",
    "            true_labels.extend(labels.squeeze().view(-1).tolist())  # Flatten the true labels\n",
    "\n",
    "    # Step 4: Plot the predictions and true labels for comparison\n",
    "    loss = nn.MSELoss()\n",
    "    tensor1 = torch.tensor(predictions)\n",
    "    tensor2 = torch.tensor(true_labels)\n",
    "    test_loss = loss(tensor1, tensor2)\n",
    "    print(test_loss)\n",
    "    plt.figure()\n",
    "    plt.xlabel('Timestamp')\n",
    "    plt.ylabel('Keff')\n",
    "    plt.plot(true_labels, label=\"Real\")\n",
    "    plt.plot(predictions, label=\"Predict\", alpha = 0.7)\n",
    "    plt.legend()\n",
    "    plt.show()\n",
    "\n",
    "    return np.array(true_labels), np.array(predictions)\n"
   ]
  },
  {
   "cell_type": "code",
   "execution_count": null,
   "metadata": {},
   "outputs": [],
   "source": [
    "first_run_data = np.loadtxt('first_run.csv', delimiter= ',', dtype= np.float64)\n",
    "second_run_data = np.loadtxt('second_run.csv', delimiter= ',', dtype= np.float64)\n",
    "\n",
    "first_run_data = np.concatenate([first_run_data, second_run_data], axis = 0)"
   ]
  },
  {
   "cell_type": "code",
   "execution_count": null,
   "metadata": {},
   "outputs": [
    {
     "name": "stdout",
     "output_type": "stream",
     "text": [
      "(1280, 153)\n"
     ]
    }
   ],
   "source": [
    "print(first_run_data.shape)"
   ]
  },
  {
   "cell_type": "code",
   "execution_count": null,
   "metadata": {},
   "outputs": [],
   "source": [
    "first_ss = StandardScaler()\n",
    "\n",
    "first_run_data = first_ss.fit_transform(first_run_data)\n",
    "first_run_dataset = ReactorData(first_run_data, 10, 0 ,1)\n"
   ]
  },
  {
   "cell_type": "code",
   "execution_count": null,
   "metadata": {},
   "outputs": [
    {
     "ename": "NameError",
     "evalue": "name 'batch_size' is not defined",
     "output_type": "error",
     "traceback": [
      "\u001b[0;31m---------------------------------------------------------------------------\u001b[0m",
      "\u001b[0;31mNameError\u001b[0m                                 Traceback (most recent call last)",
      "\u001b[0;32m/var/folders/66/x0v6m_616j3991r2_zswcnq40000gn/T/ipykernel_8803/2238055893.py\u001b[0m in \u001b[0;36m<module>\u001b[0;34m\u001b[0m\n\u001b[0;32m----> 1\u001b[0;31m \u001b[0mall_labels\u001b[0m\u001b[0;34m,\u001b[0m \u001b[0mpredictions\u001b[0m \u001b[0;34m=\u001b[0m  \u001b[0meval\u001b[0m\u001b[0;34m(\u001b[0m\u001b[0mfirst_run_dataset\u001b[0m\u001b[0;34m,\u001b[0m \u001b[0mbatch_size\u001b[0m\u001b[0;34m,\u001b[0m \u001b[0msequence_length\u001b[0m\u001b[0;34m)\u001b[0m\u001b[0;34m\u001b[0m\u001b[0;34m\u001b[0m\u001b[0m\n\u001b[0m",
      "\u001b[0;31mNameError\u001b[0m: name 'batch_size' is not defined"
     ]
    }
   ],
   "source": [
    "all_labels, predictions =  eval(first_run_dataset, batch_size, sequence_length)"
   ]
  },
  {
   "cell_type": "code",
   "execution_count": null,
   "metadata": {},
   "outputs": [],
   "source": [
    "X = first_run_dataset.unshaped_data\n",
    "plt.plot(X[0,:])"
   ]
  },
  {
   "cell_type": "code",
   "execution_count": null,
   "metadata": {},
   "outputs": [
    {
     "data": {
      "text/plain": [
       "<matplotlib.legend.Legend at 0x7f929269d550>"
      ]
     },
     "execution_count": 62,
     "metadata": {},
     "output_type": "execute_result"
    },
    {
     "data": {
      "image/png": "[encoded data removed]",
      "text/plain": [
       "<Figure size 432x288 with 1 Axes>"
      ]
     },
     "metadata": {
      "needs_background": "light"
     },
     "output_type": "display_data"
    }
   ],
   "source": [
    "# change to the original unit\n",
    "true_labels = all_labels\n",
    "predictions = predictions\n",
    "X = first_run_dataset.unshaped_data\n",
    "\n",
    "result_y = np.append(X, true_labels.reshape(-1,1), axis=1)\n",
    "result_predict = np.append(X, predictions.reshape(-1,1), axis=1)\n",
    "\n",
    "y = first_ss.inverse_transform(result_y)\n",
    "predict = first_ss.inverse_transform(result_predict)\n",
    "\n",
    "plt.figure()\n",
    "plt.ylim((0.9,1.05))\n",
    "plt.plot(y[:,-1], label = \"Real\")     \n",
    "plt.plot(predict[:,-1], label = \"Predict\", alpha = 0.6)\n",
    "plt.legend()\n",
    "\n",
    "\n"
   ]
  },
  {
   "attachments": {},
   "cell_type": "markdown",
   "metadata": {},
   "source": [
    "### For the challenging run"
   ]
  },
  {
   "cell_type": "code",
   "execution_count": null,
   "metadata": {},
   "outputs": [],
   "source": [
    "hard_run_data = np.loadtxt('challenging_run.csv', delimiter= ',', dtype= np.float64)\n",
    "\n"
   ]
  },
  {
   "cell_type": "code",
   "execution_count": null,
   "metadata": {},
   "outputs": [],
   "source": [
    "hard_ss = StandardScaler()\n",
    "\n",
    "hard_run_data = first_ss.fit_transform(hard_run_data)\n",
    "hard_run_dataset = ReactorData(hard_run_data, sequence_length, 0 ,1)\n"
   ]
  },
  {
   "cell_type": "code",
   "execution_count": null,
   "metadata": {},
   "outputs": [],
   "source": [
    "all_labels, predictions =  eval(hard_run_dataset, batch_size, sequence_length)"
   ]
  },
  {
   "cell_type": "code",
   "execution_count": null,
   "metadata": {},
   "outputs": [],
   "source": [
    "# change to the original unit\n",
    "true_labels = all_labels\n",
    "predictions = predictions\n",
    "X = hard_run_dataset.unshaped_data\n",
    "\n",
    "result_y = np.append(X, true_labels.reshape(-1,1), axis=1)\n",
    "result_predict = np.append(X, predictions.reshape(-1,1), axis=1)\n",
    "\n",
    "y = first_ss.inverse_transform(result_y)\n",
    "predict = first_ss.inverse_transform(result_predict)\n",
    "\n",
    "plt.figure()\n",
    "plt.ylim((0.9,1.05))\n",
    "plt.plot(y[:,-1], label = \"Real\")     \n",
    "plt.plot(predict[:,-1], label = \"Predict\", alpha = 0.6)\n",
    "plt.legend()\n"
   ]
  },
  {
   "cell_type": "code",
   "execution_count": null,
   "metadata": {},
   "outputs": [],
   "source": [
    "### Fine tuning hyperparameters"
   ]
  },
  {
   "cell_type": "code",
   "execution_count": null,
   "metadata": {},
   "outputs": [],
   "source": [
    "# will do this later, specifically wrapping training and evaluation into functions and fine tuning like that"
   ]
  },
  {
   "cell_type": "code",
   "execution_count": null,
   "metadata": {},
   "outputs": [
    {
     "data": {
      "text/plain": [
       "'\\nsome points\\n\\nshould add some stable data?\\nshould increse model size?\\nshould do some more data prepocessing?\\nshould use pre-trained model?\\n'"
      ]
     },
     "execution_count": 57,
     "metadata": {},
     "output_type": "execute_result"
    }
   ],
   "source": [
    "'''\n",
    "some points\n",
    "\n",
    "should add some stable data?\n",
    "should increse model size?\n",
    "should do some more data prepocessing?\n",
    "should use pre-trained model?\n",
    "'''"
   ]
  },
  {
   "cell_type": "code",
   "execution_count": null,
   "metadata": {},
   "outputs": [],
   "source": []
  }
 ],
 "metadata": {
  "kernelspec": {
   "display_name": "Python 3",
   "language": "python",
   "name": "python3"
  },
  "language_info": {
   "codemirror_mode": {
    "name": "ipython",
    "version": 3
   },
   "file_extension": ".py",
   "mimetype": "text/x-python",
   "name": "python",
   "nbconvert_exporter": "python",
   "pygments_lexer": "ipython3",
   "version": "3.9.13"
  },
  "vscode": {
   "interpreter": {
    "hash": "83d8af4ff1ccf0e43da2803a684c950e5c1874edeab0ee20d27ee23b5d3b3a9c"
   }
  }
 },
 "nbformat": 4,
 "nbformat_minor": 2
}
