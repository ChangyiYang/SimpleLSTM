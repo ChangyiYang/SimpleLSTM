{
 "cells": [
  {
   "cell_type": "code",
   "execution_count": 6,
   "metadata": {},
   "outputs": [],
   "source": [
    "# This file is aimed to add Xe to the model and see if the model can be improved\n",
    "from src.DataPrepocessing import *\n",
    "from src.NeuralNets import *\n",
    "from src.TrainMethod import *\n",
    "\n",
    "import matplotlib.pyplot as plt\n",
    "import torch.optim as optim\n",
    "import torch.nn as nn\n",
    "import pandas as pd\n",
    "from sklearn.preprocessing import StandardScaler"
   ]
  },
  {
   "attachments": {},
   "cell_type": "markdown",
   "metadata": {},
   "source": [
    "# Data Propocessing"
   ]
  },
  {
   "attachments": {},
   "cell_type": "markdown",
   "metadata": {},
   "source": [
    "This part will generate a file with following parts\n",
    "* Keff\n",
    "* Power\n",
    "* Threshold\n",
    "* Histogramed Cs\n",
    "* Histogramed Xe"
   ]
  },
  {
   "attachments": {},
   "cell_type": "markdown",
   "metadata": {},
   "source": []
  },
  {
   "cell_type": "code",
   "execution_count": 7,
   "metadata": {},
   "outputs": [],
   "source": [
    "core_name = 'cycle_352.csv' \n",
    "Gamma_name = \"Processed_cycle_32_nonreduced.csv\"\n",
    "\n",
    "\n",
    "output_name = 'Gamma_nonreduced.csv'\n",
    "\n",
    "shuffle = False"
   ]
  },
  {
   "cell_type": "code",
   "execution_count": 8,
   "metadata": {},
   "outputs": [
    {
     "data": {
      "text/plain": [
       "(353, 13)"
      ]
     },
     "execution_count": 8,
     "metadata": {},
     "output_type": "execute_result"
    }
   ],
   "source": [
    "# First, get the keff power and threshold from tracked_results.csv\n",
    "\n",
    "core_file = pd.read_csv(f\"./Gamma Data/{core_name}\")\n",
    "core_file.shape"
   ]
  },
  {
   "cell_type": "code",
   "execution_count": 9,
   "metadata": {},
   "outputs": [
    {
     "data": {
      "text/plain": [
       "[<matplotlib.lines.Line2D at 0x2dd3c6436a0>]"
      ]
     },
     "execution_count": 9,
     "metadata": {},
     "output_type": "execute_result"
    },
    {
     "data": {
      "image/png": "[encoded data removed]",
      "text/plain": [
       "<Figure size 640x480 with 1 Axes>"
      ]
     },
     "metadata": {},
     "output_type": "display_data"
    }
   ],
   "source": [
    "extract_columns = [\"keff\", \"power_normalization_value\", \"threshold_fuel\"]\n",
    "core_data = core_file[extract_columns].to_numpy()\n",
    "core_data.shape\n",
    "import matplotlib.pyplot as plt\n",
    "plt.plot(core_data[:,2])"
   ]
  },
  {
   "cell_type": "code",
   "execution_count": 11,
   "metadata": {},
   "outputs": [
    {
     "ename": "MemoryError",
     "evalue": "",
     "output_type": "error",
     "traceback": [
      "\u001b[1;31m---------------------------------------------------------------------------\u001b[0m",
      "\u001b[1;31mMemoryError\u001b[0m                               Traceback (most recent call last)",
      "\u001b[1;32mc:\\Users\\11835\\Documents\\GitHub\\SimpleLSTM\\Gamma_data.ipynb Cell 8\u001b[0m line \u001b[0;36m1\n\u001b[1;32m----> <a href='vscode-notebook-cell:/c%3A/Users/11835/Documents/GitHub/SimpleLSTM/Gamma_data.ipynb#X10sZmlsZQ%3D%3D?line=0'>1</a>\u001b[0m Gamma_data \u001b[39m=\u001b[39m pd\u001b[39m.\u001b[39;49mread_csv(\u001b[39mf\u001b[39;49m\u001b[39m\"\u001b[39;49m\u001b[39m./Gamma Data/\u001b[39;49m\u001b[39m{\u001b[39;49;00mGamma_name\u001b[39m}\u001b[39;49;00m\u001b[39m\"\u001b[39;49m)\u001b[39m.\u001b[39mto_numpy()\n",
      "File \u001b[1;32mc:\\Users\\11835\\anaconda3\\lib\\site-packages\\pandas\\util\\_decorators.py:211\u001b[0m, in \u001b[0;36mdeprecate_kwarg.<locals>._deprecate_kwarg.<locals>.wrapper\u001b[1;34m(*args, **kwargs)\u001b[0m\n\u001b[0;32m    209\u001b[0m     \u001b[39melse\u001b[39;00m:\n\u001b[0;32m    210\u001b[0m         kwargs[new_arg_name] \u001b[39m=\u001b[39m new_arg_value\n\u001b[1;32m--> 211\u001b[0m \u001b[39mreturn\u001b[39;00m func(\u001b[39m*\u001b[39margs, \u001b[39m*\u001b[39m\u001b[39m*\u001b[39mkwargs)\n",
      "File \u001b[1;32mc:\\Users\\11835\\anaconda3\\lib\\site-packages\\pandas\\util\\_decorators.py:331\u001b[0m, in \u001b[0;36mdeprecate_nonkeyword_arguments.<locals>.decorate.<locals>.wrapper\u001b[1;34m(*args, **kwargs)\u001b[0m\n\u001b[0;32m    325\u001b[0m \u001b[39mif\u001b[39;00m \u001b[39mlen\u001b[39m(args) \u001b[39m>\u001b[39m num_allow_args:\n\u001b[0;32m    326\u001b[0m     warnings\u001b[39m.\u001b[39mwarn(\n\u001b[0;32m    327\u001b[0m         msg\u001b[39m.\u001b[39mformat(arguments\u001b[39m=\u001b[39m_format_argument_list(allow_args)),\n\u001b[0;32m    328\u001b[0m         \u001b[39mFutureWarning\u001b[39;00m,\n\u001b[0;32m    329\u001b[0m         stacklevel\u001b[39m=\u001b[39mfind_stack_level(),\n\u001b[0;32m    330\u001b[0m     )\n\u001b[1;32m--> 331\u001b[0m \u001b[39mreturn\u001b[39;00m func(\u001b[39m*\u001b[39margs, \u001b[39m*\u001b[39m\u001b[39m*\u001b[39mkwargs)\n",
      "File \u001b[1;32mc:\\Users\\11835\\anaconda3\\lib\\site-packages\\pandas\\io\\parsers\\readers.py:950\u001b[0m, in \u001b[0;36mread_csv\u001b[1;34m(filepath_or_buffer, sep, delimiter, header, names, index_col, usecols, squeeze, prefix, mangle_dupe_cols, dtype, engine, converters, true_values, false_values, skipinitialspace, skiprows, skipfooter, nrows, na_values, keep_default_na, na_filter, verbose, skip_blank_lines, parse_dates, infer_datetime_format, keep_date_col, date_parser, dayfirst, cache_dates, iterator, chunksize, compression, thousands, decimal, lineterminator, quotechar, quoting, doublequote, escapechar, comment, encoding, encoding_errors, dialect, error_bad_lines, warn_bad_lines, on_bad_lines, delim_whitespace, low_memory, memory_map, float_precision, storage_options)\u001b[0m\n\u001b[0;32m    935\u001b[0m kwds_defaults \u001b[39m=\u001b[39m _refine_defaults_read(\n\u001b[0;32m    936\u001b[0m     dialect,\n\u001b[0;32m    937\u001b[0m     delimiter,\n\u001b[1;32m   (...)\u001b[0m\n\u001b[0;32m    946\u001b[0m     defaults\u001b[39m=\u001b[39m{\u001b[39m\"\u001b[39m\u001b[39mdelimiter\u001b[39m\u001b[39m\"\u001b[39m: \u001b[39m\"\u001b[39m\u001b[39m,\u001b[39m\u001b[39m\"\u001b[39m},\n\u001b[0;32m    947\u001b[0m )\n\u001b[0;32m    948\u001b[0m kwds\u001b[39m.\u001b[39mupdate(kwds_defaults)\n\u001b[1;32m--> 950\u001b[0m \u001b[39mreturn\u001b[39;00m _read(filepath_or_buffer, kwds)\n",
      "File \u001b[1;32mc:\\Users\\11835\\anaconda3\\lib\\site-packages\\pandas\\io\\parsers\\readers.py:611\u001b[0m, in \u001b[0;36m_read\u001b[1;34m(filepath_or_buffer, kwds)\u001b[0m\n\u001b[0;32m    608\u001b[0m     \u001b[39mreturn\u001b[39;00m parser\n\u001b[0;32m    610\u001b[0m \u001b[39mwith\u001b[39;00m parser:\n\u001b[1;32m--> 611\u001b[0m     \u001b[39mreturn\u001b[39;00m parser\u001b[39m.\u001b[39;49mread(nrows)\n",
      "File \u001b[1;32mc:\\Users\\11835\\anaconda3\\lib\\site-packages\\pandas\\io\\parsers\\readers.py:1778\u001b[0m, in \u001b[0;36mTextFileReader.read\u001b[1;34m(self, nrows)\u001b[0m\n\u001b[0;32m   1771\u001b[0m nrows \u001b[39m=\u001b[39m validate_integer(\u001b[39m\"\u001b[39m\u001b[39mnrows\u001b[39m\u001b[39m\"\u001b[39m, nrows)\n\u001b[0;32m   1772\u001b[0m \u001b[39mtry\u001b[39;00m:\n\u001b[0;32m   1773\u001b[0m     \u001b[39m# error: \"ParserBase\" has no attribute \"read\"\u001b[39;00m\n\u001b[0;32m   1774\u001b[0m     (\n\u001b[0;32m   1775\u001b[0m         index,\n\u001b[0;32m   1776\u001b[0m         columns,\n\u001b[0;32m   1777\u001b[0m         col_dict,\n\u001b[1;32m-> 1778\u001b[0m     ) \u001b[39m=\u001b[39m \u001b[39mself\u001b[39;49m\u001b[39m.\u001b[39;49m_engine\u001b[39m.\u001b[39;49mread(  \u001b[39m# type: ignore[attr-defined]\u001b[39;49;00m\n\u001b[0;32m   1779\u001b[0m         nrows\n\u001b[0;32m   1780\u001b[0m     )\n\u001b[0;32m   1781\u001b[0m \u001b[39mexcept\u001b[39;00m \u001b[39mException\u001b[39;00m:\n\u001b[0;32m   1782\u001b[0m     \u001b[39mself\u001b[39m\u001b[39m.\u001b[39mclose()\n",
      "File \u001b[1;32mc:\\Users\\11835\\anaconda3\\lib\\site-packages\\pandas\\io\\parsers\\c_parser_wrapper.py:230\u001b[0m, in \u001b[0;36mCParserWrapper.read\u001b[1;34m(self, nrows)\u001b[0m\n\u001b[0;32m    228\u001b[0m \u001b[39mtry\u001b[39;00m:\n\u001b[0;32m    229\u001b[0m     \u001b[39mif\u001b[39;00m \u001b[39mself\u001b[39m\u001b[39m.\u001b[39mlow_memory:\n\u001b[1;32m--> 230\u001b[0m         chunks \u001b[39m=\u001b[39m \u001b[39mself\u001b[39;49m\u001b[39m.\u001b[39;49m_reader\u001b[39m.\u001b[39;49mread_low_memory(nrows)\n\u001b[0;32m    231\u001b[0m         \u001b[39m# destructive to chunks\u001b[39;00m\n\u001b[0;32m    232\u001b[0m         data \u001b[39m=\u001b[39m _concatenate_chunks(chunks)\n",
      "File \u001b[1;32mc:\\Users\\11835\\anaconda3\\lib\\site-packages\\pandas\\_libs\\parsers.pyx:808\u001b[0m, in \u001b[0;36mpandas._libs.parsers.TextReader.read_low_memory\u001b[1;34m()\u001b[0m\n",
      "File \u001b[1;32mc:\\Users\\11835\\anaconda3\\lib\\site-packages\\pandas\\_libs\\parsers.pyx:890\u001b[0m, in \u001b[0;36mpandas._libs.parsers.TextReader._read_rows\u001b[1;34m()\u001b[0m\n",
      "File \u001b[1;32mc:\\Users\\11835\\anaconda3\\lib\\site-packages\\pandas\\_libs\\parsers.pyx:1055\u001b[0m, in \u001b[0;36mpandas._libs.parsers.TextReader._convert_column_data\u001b[1;34m()\u001b[0m\n",
      "\u001b[1;31mMemoryError\u001b[0m: "
     ]
    }
   ],
   "source": [
    "Gamma_data = pd.read_csv(f\"./Gamma Data/{Gamma_name}\").to_numpy()"
   ]
  },
  {
   "cell_type": "code",
   "execution_count": null,
   "metadata": {},
   "outputs": [],
   "source": [
    "# do the time align\n",
    "# although it does not have a clear effect on the result\n",
    "\n",
    "core_data = core_data[102:]\n",
    "\n",
    "Gamma_data = Gamma_data[:-1]"
   ]
  },
  {
   "cell_type": "code",
   "execution_count": null,
   "metadata": {},
   "outputs": [
    {
     "data": {
      "text/plain": [
       "(251, 595)"
      ]
     },
     "execution_count": 18,
     "metadata": {},
     "output_type": "execute_result"
    }
   ],
   "source": [
    "\n",
    "total_data = np.concatenate((core_data, Gamma_data), axis=1)\n",
    "total_data.shape"
   ]
  },
  {
   "cell_type": "code",
   "execution_count": null,
   "metadata": {},
   "outputs": [
    {
     "data": {
      "text/plain": [
       "array([1.0090978 , 1.0083896 , 1.00959705, 1.01069736, 1.00999607,\n",
       "       1.01064544, 1.01183908, 1.01410378, 1.01387664, 1.01354291,\n",
       "       1.01598343, 1.01601617, 1.01529148, 1.01738471, 1.01726107,\n",
       "       1.01866081, 1.01883515, 1.01826247, 1.0184861 , 1.01904933,\n",
       "       1.01955633, 1.01896295, 1.01977305, 1.01827608, 1.01998608,\n",
       "       1.02086221, 1.01906519, 1.01937784, 1.01883146, 1.01863681,\n",
       "       1.02036216, 1.01961862, 1.0184333 , 1.01866801, 1.01743509,\n",
       "       1.01713028, 1.0156789 , 1.01474924, 1.01404446, 1.01292956,\n",
       "       1.01387516, 1.01299734, 1.01283018, 1.01293717, 1.01094055,\n",
       "       1.01196693, 1.01135645, 1.01010691, 1.01184741, 1.0106646 ,\n",
       "       1.01005645, 1.00958495, 1.00932185, 1.00872624, 1.01020498,\n",
       "       1.00997746, 1.00915425, 1.00974644, 1.01024998, 1.00965676,\n",
       "       1.01104921, 1.01211323, 1.01249665, 1.01285302, 1.0129773 ,\n",
       "       1.01342688, 1.0151508 , 1.01535313, 1.01680347, 1.015169  ,\n",
       "       1.01492441, 1.01638743, 1.01672471, 1.01622057, 1.01820432,\n",
       "       1.01858834, 1.01783564, 1.01773985, 1.01809358, 1.01772942,\n",
       "       1.02029024, 1.01900115, 1.01844429, 1.01714863, 1.01754683,\n",
       "       1.01798599, 1.0181876 , 1.01746807, 1.01683225, 1.01638127,\n",
       "       1.01542111, 1.01436612, 1.01405498, 1.01378128, 1.01468394,\n",
       "       1.01539393, 1.0154219 , 1.01419544, 1.01428878, 1.01368572,\n",
       "       1.01318006, 1.01377313, 1.01207711, 1.01274299, 1.01216708,\n",
       "       1.01119709, 1.0111595 , 1.01051823, 1.01046397, 1.01076925,\n",
       "       1.01121696, 1.01118323, 1.01057948, 1.01284787, 1.01188662,\n",
       "       1.01142673, 1.01192245, 1.0128627 , 1.01283626, 1.01387399,\n",
       "       1.01523149, 1.0146134 , 1.01473126, 1.01478187, 1.01532715,\n",
       "       1.0158252 , 1.01608475, 1.01627922, 1.01647133, 1.01698063,\n",
       "       1.01761181, 1.01666943, 1.01630056, 1.01698526, 1.01839135,\n",
       "       1.01820994, 1.01804876, 1.0170789 , 1.01716422, 1.01563635,\n",
       "       1.01642503, 1.01713572, 1.01660022, 1.01629818, 1.01712388,\n",
       "       1.01658536, 1.01547637, 1.01628511, 1.016041  , 1.01558297,\n",
       "       1.01482142, 1.01601222, 1.01522214, 1.01442277, 1.01397547,\n",
       "       1.01423749, 1.01260823, 1.01390917, 1.01212771, 1.01333405,\n",
       "       1.01410602, 1.01295237, 1.01427837, 1.01334549, 1.01338179,\n",
       "       1.01255935, 1.01270183, 1.01164046, 1.0114469 , 1.01338616,\n",
       "       1.01255118, 1.0117262 , 1.01211494, 1.01273074, 1.01234647,\n",
       "       1.01348324, 1.01416757, 1.01438083, 1.01397085, 1.01666958,\n",
       "       1.01507208, 1.01365357, 1.01514475, 1.01611316, 1.01746395,\n",
       "       1.01653789, 1.01773419, 1.01681734, 1.0174513 , 1.01639946,\n",
       "       1.01681   , 1.01684834, 1.01725528, 1.01672172, 1.01606338,\n",
       "       1.01715424, 1.01746936, 1.01583736, 1.01550151, 1.01675217,\n",
       "       1.01591285, 1.01577163, 1.01516272, 1.01602747, 1.01495497,\n",
       "       1.01538649, 1.01531577, 1.01614903, 1.0146462 , 1.0146356 ,\n",
       "       1.01598782, 1.0157407 , 1.01629127, 1.01463971, 1.01543238,\n",
       "       1.01460311, 1.01469735, 1.01345755, 1.01370305, 1.01436239,\n",
       "       1.01419384, 1.01421837, 1.01316185, 1.0147601 , 1.01308692,\n",
       "       1.0134261 , 1.01295398, 1.01293222, 1.01358032, 1.01363397,\n",
       "       1.01382576, 1.01488169, 1.01399766, 1.0145817 , 1.01280377,\n",
       "       1.01611565, 1.01559519, 1.01443987, 1.01399262, 1.01521039,\n",
       "       1.01589144, 1.01609706, 1.01520795, 1.01517001, 1.01589918,\n",
       "       1.01656393, 1.01542302, 1.01563031, 1.01556903, 1.01666759,\n",
       "       1.01514759])"
      ]
     },
     "execution_count": 19,
     "metadata": {},
     "output_type": "execute_result"
    }
   ],
   "source": [
    "# check if the first column is the keff\n",
    "\n",
    "total_data[:,0]"
   ]
  },
  {
   "cell_type": "code",
   "execution_count": null,
   "metadata": {},
   "outputs": [
    {
     "data": {
      "text/plain": [
       "[<matplotlib.lines.Line2D at 0x23fe3723310>]"
      ]
     },
     "execution_count": 20,
     "metadata": {},
     "output_type": "execute_result"
    },
    {
     "data": {
      "image/png": "[encoded data removed]",
      "text/plain": [
       "<Figure size 640x480 with 1 Axes>"
      ]
     },
     "metadata": {},
     "output_type": "display_data"
    },
    {
     "data": {
      "image/png": "[encoded data removed]",
      "text/plain": [
       "<Figure size 640x480 with 1 Axes>"
      ]
     },
     "metadata": {},
     "output_type": "display_data"
    }
   ],
   "source": [
    "# check the power and threshold\n",
    "\n",
    "plt.plot(total_data[:,1])\n",
    "plt.figure()\n",
    "plt.plot(total_data[:,2])"
   ]
  },
  {
   "cell_type": "code",
   "execution_count": null,
   "metadata": {},
   "outputs": [],
   "source": [
    "def shuffle_ndarray(arr, chunk_size=10):\n",
    "    num_chunks = arr.shape[0] // chunk_size  # 计算块的数量\n",
    "\n",
    "    # 将数组切片为长度为 chunk_size 的块\n",
    "    chunks = np.split(arr[:num_chunks*chunk_size], num_chunks)\n",
    "\n",
    "    # 对块的索引进行洗牌（shuffle）\n",
    "    shuffled_indices = np.arange(num_chunks)\n",
    "    np.random.shuffle(shuffled_indices)\n",
    "\n",
    "    # 根据洗牌后的索引重新排序块\n",
    "    shuffled_chunks = [chunks[i] for i in shuffled_indices]\n",
    "\n",
    "    # 将洗牌后的块重新合并为一个数组\n",
    "    shuffled_arr = np.concatenate(shuffled_chunks)\n",
    "\n",
    "    return shuffled_arr\n",
    "\n",
    "\n",
    "if shuffle:\n",
    "\n",
    "    total_data = shuffle_ndarray(total_data, 50)"
   ]
  },
  {
   "cell_type": "code",
   "execution_count": null,
   "metadata": {},
   "outputs": [],
   "source": [
    "# Drop the data \n",
    "\n",
    "# Save the array as a CSV file\n",
    "np.savetxt(f'./Gamma Data/{output_name}', total_data, delimiter=',')\n",
    "np.savetxt(f'./Processed Data/{output_name}', total_data, delimiter=',')"
   ]
  }
 ],
 "metadata": {
  "kernelspec": {
   "display_name": "base",
   "language": "python",
   "name": "python3"
  },
  "language_info": {
   "codemirror_mode": {
    "name": "ipython",
    "version": 3
   },
   "file_extension": ".py",
   "mimetype": "text/x-python",
   "name": "python",
   "nbconvert_exporter": "python",
   "pygments_lexer": "ipython3",
   "version": "3.10.9"
  },
  "orig_nbformat": 4
 },
 "nbformat": 4,
 "nbformat_minor": 2
}
