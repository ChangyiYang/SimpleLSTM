{
 "cells": [
  {
   "cell_type": "code",
   "execution_count": 12,
   "metadata": {},
   "outputs": [],
   "source": [
    "# This file is aimed to add Xe to the model and see if the model can be improved\n",
    "from src.DataPrepocessing import *\n",
    "from src.NeuralNets import *\n",
    "from src.TrainMethod import *\n",
    "\n",
    "import matplotlib.pyplot as plt\n",
    "import torch.optim as optim\n",
    "import torch.nn as nn\n",
    "import pandas as pd\n",
    "from sklearn.preprocessing import StandardScaler"
   ]
  },
  {
   "attachments": {},
   "cell_type": "markdown",
   "metadata": {},
   "source": [
    "# Data Propocessing"
   ]
  },
  {
   "attachments": {},
   "cell_type": "markdown",
   "metadata": {},
   "source": [
    "This part will generate a file with following parts\n",
    "* Keff\n",
    "* Power\n",
    "* Threshold\n",
    "* Histogramed Cs\n",
    "* Histogramed Xe"
   ]
  },
  {
   "attachments": {},
   "cell_type": "markdown",
   "metadata": {},
   "source": []
  },
  {
   "cell_type": "code",
   "execution_count": 13,
   "metadata": {},
   "outputs": [],
   "source": [
    "core_name = 'cycle_352.csv' \n",
    "Gamma_name = \"Quantile_1_cycle_32_bins_10.csv\"\n",
    "\n",
    "\n",
    "output_name = 'HxF_90pow.csv'\n",
    "\n",
    "offset = 35\n",
    "shuffle = False"
   ]
  },
  {
   "cell_type": "code",
   "execution_count": 14,
   "metadata": {},
   "outputs": [
    {
     "data": {
      "text/plain": [
       "(605, 2)"
      ]
     },
     "execution_count": 14,
     "metadata": {},
     "output_type": "execute_result"
    }
   ],
   "source": [
    "# First, get the keff power and threshold from tracked_results.csv\n",
    "\n",
    "core_file = pd.read_csv(\"./Reprocessed HxF Data/90_ power/HxF_HTR10_90pow_core_state_targets.csv\")\n",
    "core_file.shape"
   ]
  },
  {
   "cell_type": "code",
   "execution_count": 15,
   "metadata": {},
   "outputs": [
    {
     "data": {
      "text/plain": [
       "<bound method NDFrame.head of      Unnamed: 0      keff\n",
       "0             0  1.006297\n",
       "1             1  1.006939\n",
       "2             2  1.006987\n",
       "3             3  1.009508\n",
       "4             4  1.010824\n",
       "..          ...       ...\n",
       "600         600  1.018860\n",
       "601         601  1.017346\n",
       "602         602  1.018312\n",
       "603         603  1.017847\n",
       "604         604  1.017209\n",
       "\n",
       "[605 rows x 2 columns]>"
      ]
     },
     "execution_count": 15,
     "metadata": {},
     "output_type": "execute_result"
    }
   ],
   "source": [
    "core_file.head"
   ]
  },
  {
   "cell_type": "code",
   "execution_count": 16,
   "metadata": {},
   "outputs": [
    {
     "data": {
      "text/plain": [
       "(605, 1)"
      ]
     },
     "execution_count": 16,
     "metadata": {},
     "output_type": "execute_result"
    }
   ],
   "source": [
    "extract_columns = [\"keff\"]\n",
    "core_data = core_file[extract_columns].to_numpy()\n",
    "core_data.shape"
   ]
  },
  {
   "cell_type": "code",
   "execution_count": 17,
   "metadata": {},
   "outputs": [],
   "source": [
    "Gamma_data = pd.read_csv(f\"./Reprocessed HxF Data/90_ power/HxF_HTR10_90pow_average_actual_concentrations_features.csv\").to_numpy()"
   ]
  },
  {
   "cell_type": "code",
   "execution_count": 18,
   "metadata": {},
   "outputs": [
    {
     "data": {
      "text/plain": [
       "(605, 321)"
      ]
     },
     "execution_count": 18,
     "metadata": {},
     "output_type": "execute_result"
    }
   ],
   "source": [
    "Gamma_data.shape"
   ]
  },
  {
   "cell_type": "code",
   "execution_count": 19,
   "metadata": {},
   "outputs": [],
   "source": [
    "# do the time align\n",
    "# although it does not have a clear effect on the result\n",
    "\n",
    "\n",
    "\n",
    "\n",
    "\n",
    "\n",
    "core_data = core_data[offset:]\n",
    "\n",
    "Gamma_data = Gamma_data[:-offset]"
   ]
  },
  {
   "cell_type": "code",
   "execution_count": 20,
   "metadata": {},
   "outputs": [
    {
     "data": {
      "text/plain": [
       "(570, 322)"
      ]
     },
     "execution_count": 20,
     "metadata": {},
     "output_type": "execute_result"
    }
   ],
   "source": [
    "\n",
    "total_data = np.concatenate((core_data, Gamma_data), axis=1)\n",
    "total_data.shape"
   ]
  },
  {
   "cell_type": "code",
   "execution_count": 21,
   "metadata": {},
   "outputs": [
    {
     "data": {
      "text/plain": [
       "array([1.01979885, 1.01995225, 1.01938481, 1.01735005, 1.01802158,\n",
       "       1.01765049, 1.01801603, 1.0172868 , 1.01702941, 1.01667649,\n",
       "       1.01528313, 1.01652685, 1.01611658, 1.01520147, 1.01453761,\n",
       "       1.01512766, 1.01490272, 1.01480778, 1.01490599, 1.0158035 ,\n",
       "       1.01629744, 1.01682819, 1.01625967, 1.01677246, 1.01824513,\n",
       "       1.01874368, 1.01862733, 1.02088976, 1.01975064, 1.02066214,\n",
       "       1.02050597, 1.02151609, 1.02227524, 1.02289461, 1.02174714,\n",
       "       1.02088327, 1.02155837, 1.02163333, 1.02116801, 1.02068532,\n",
       "       1.02110079, 1.02278488, 1.02200548, 1.02134444, 1.02085203,\n",
       "       1.02048697, 1.02171982, 1.02134424, 1.01948818, 1.02008677,\n",
       "       1.02014729, 1.01941543, 1.01928732, 1.01919743, 1.0188336 ,\n",
       "       1.01773995, 1.01774647, 1.01828505, 1.01748116, 1.01807465,\n",
       "       1.01679393, 1.01695695, 1.01790424, 1.01920114, 1.01815947,\n",
       "       1.01753553, 1.01725322, 1.01738549, 1.01700867, 1.01825144,\n",
       "       1.01837153, 1.01777738, 1.01832733, 1.01798496, 1.01786282,\n",
       "       1.01832581, 1.01913154, 1.01838699, 1.01984623, 1.01900118,\n",
       "       1.02110511, 1.01930599, 1.02059552, 1.01868074, 1.01878307,\n",
       "       1.0200894 , 1.02069921, 1.02087392, 1.02170137, 1.02002444,\n",
       "       1.02184853, 1.02026522, 1.02035863, 1.01916067, 1.02040961,\n",
       "       1.02005715, 1.0204704 , 1.01942044, 1.01942462, 1.01873206,\n",
       "       1.02074212, 1.02018046, 1.01992652, 1.01918512, 1.02051286,\n",
       "       1.01886704, 1.01933249, 1.01893624, 1.01905139, 1.01863056,\n",
       "       1.01878193, 1.01878763, 1.01757854, 1.01742981, 1.01766674,\n",
       "       1.01789227, 1.0173949 , 1.01813496, 1.01722091, 1.01679953,\n",
       "       1.01815545, 1.01913829, 1.01870152, 1.01860606, 1.0180703 ,\n",
       "       1.01752933, 1.01877182, 1.01970016, 1.01946065, 1.01838265,\n",
       "       1.01855802, 1.01854052, 1.0187104 , 1.01924223, 1.01900459,\n",
       "       1.01901437, 1.01858571, 1.01844699, 1.01815982, 1.01964901,\n",
       "       1.01990493, 1.01863176, 1.01949751, 1.01771268, 1.01951443,\n",
       "       1.01855548, 1.0180652 , 1.01883461, 1.01842755, 1.01980678,\n",
       "       1.01986461, 1.02100826, 1.02044388, 1.02104958, 1.0211405 ,\n",
       "       1.02040834, 1.01870813, 1.02028888, 1.01865061, 1.01951448,\n",
       "       1.01808081, 1.01829563, 1.01811374, 1.01822234, 1.01813678,\n",
       "       1.01841059, 1.01872808, 1.01867262, 1.01783424, 1.01944153,\n",
       "       1.01788429, 1.01859417, 1.01799959, 1.01944807, 1.01840713,\n",
       "       1.01978438, 1.02064497, 1.01965503, 1.01980183, 1.0199312 ,\n",
       "       1.02001405, 1.01892688, 1.01995636, 1.01880708, 1.01957986,\n",
       "       1.01997988, 1.02096063, 1.01965177, 1.02047014, 1.01962709,\n",
       "       1.02009359, 1.01865762, 1.01848593, 1.01876551, 1.01824112,\n",
       "       1.01832016, 1.01820506, 1.01915789, 1.01868073, 1.02004193,\n",
       "       1.01915895, 1.02015609, 1.01946911, 1.01986436, 1.01966763,\n",
       "       1.02064685, 1.01972608, 1.01986514, 1.01946275, 1.01927669,\n",
       "       1.01916518, 1.02089916, 1.01873356, 1.0180213 , 1.01846539,\n",
       "       1.01792698, 1.01866718, 1.01813756, 1.01839385, 1.01772445,\n",
       "       1.017052  , 1.01745793, 1.01630738, 1.01795578, 1.01854811,\n",
       "       1.01792144, 1.01688551, 1.01682504, 1.01676677, 1.01737478,\n",
       "       1.01836533, 1.01773153, 1.01674659, 1.01933941, 1.01910571,\n",
       "       1.01823656, 1.01949375, 1.01873862, 1.01876092, 1.01954489,\n",
       "       1.01920651, 1.020118  , 1.01949625, 1.02035519, 1.02088657,\n",
       "       1.01943937, 1.01987486, 1.0194263 , 1.01980333, 1.01909223,\n",
       "       1.01887553, 1.01877408, 1.0193158 , 1.01986626, 1.01943768,\n",
       "       1.01806112, 1.01857144, 1.01933214, 1.01935664, 1.01908371,\n",
       "       1.01925561, 1.01938679, 1.01971759, 1.01981695, 1.01997212,\n",
       "       1.02031728, 1.0203016 , 1.01988457, 1.01953944, 1.01872801,\n",
       "       1.01819494, 1.0190489 , 1.01847635, 1.01816175, 1.01780434,\n",
       "       1.01752894, 1.0180233 , 1.01852954, 1.01965548, 1.01832705,\n",
       "       1.01847441, 1.0175109 , 1.01813108, 1.01881193, 1.01850586,\n",
       "       1.0179623 , 1.01772239, 1.01821082, 1.01885258, 1.01837017,\n",
       "       1.01867425, 1.01841338, 1.01939711, 1.01979529, 1.01922723,\n",
       "       1.01925375, 1.01873182, 1.01856556, 1.0193732 , 1.01930139,\n",
       "       1.02006884, 1.01905866, 1.01763375, 1.01969246, 1.01919061,\n",
       "       1.01982142, 1.01847172, 1.01901573, 1.0186982 , 1.01929368,\n",
       "       1.02017153, 1.01905701, 1.01881714, 1.01833635, 1.01932532,\n",
       "       1.01797767, 1.01883162, 1.01774944, 1.01854939, 1.01918408,\n",
       "       1.0189098 , 1.0185218 , 1.01831933, 1.01768421, 1.01856504,\n",
       "       1.01772935, 1.01798241, 1.01842683, 1.01930289, 1.01989871,\n",
       "       1.01921778, 1.02012795, 1.01867238, 1.01925466, 1.01868623,\n",
       "       1.01958049, 1.01835213, 1.0188971 , 1.019722  , 1.01991701,\n",
       "       1.01922936, 1.0184221 , 1.01909533, 1.01981603, 1.01940126,\n",
       "       1.01946645, 1.02108908, 1.02053411, 1.01841886, 1.01928317,\n",
       "       1.01931266, 1.01859055, 1.02000605, 1.02065214, 1.02010945,\n",
       "       1.01845627, 1.01947545, 1.02058601, 1.02050136, 1.01966778,\n",
       "       1.01944305, 1.01943735, 1.02046704, 1.01955248, 1.01978905,\n",
       "       1.0195831 , 1.02034009, 1.02040199, 1.01937556, 1.0196415 ,\n",
       "       1.01894611, 1.01931643, 1.0179734 , 1.01858778, 1.01792542,\n",
       "       1.01790003, 1.01695316, 1.01859232, 1.01861496, 1.01876417,\n",
       "       1.01805441, 1.01947109, 1.01877703, 1.01993081, 1.01882793,\n",
       "       1.01821789, 1.01895399, 1.01920762, 1.01887774, 1.0197753 ,\n",
       "       1.01959513, 1.01865952, 1.01829218, 1.01855201, 1.01947038,\n",
       "       1.01701615, 1.01863183, 1.01851619, 1.01923931, 1.01807358,\n",
       "       1.01790732, 1.01812095, 1.02048248, 1.01830605, 1.01703724,\n",
       "       1.01814404, 1.01872434, 1.01884593, 1.01782849, 1.01766315,\n",
       "       1.01754589, 1.01778426, 1.01819969, 1.01869133, 1.01795043,\n",
       "       1.01823819, 1.01861501, 1.0204807 , 1.02096579, 1.01968709,\n",
       "       1.01914155, 1.02007568, 1.02006674, 1.02002041, 1.02055021,\n",
       "       1.02016423, 1.01984997, 1.01824414, 1.01963237, 1.01826501,\n",
       "       1.01790925, 1.01850176, 1.0188353 , 1.01814554, 1.01866032,\n",
       "       1.01945784, 1.01903384, 1.0182475 , 1.01842314, 1.01985376,\n",
       "       1.01746987, 1.01909803, 1.01955442, 1.01978703, 1.01962657,\n",
       "       1.01936201, 1.02052485, 1.01997735, 1.01913167, 1.0182355 ,\n",
       "       1.01950932, 1.01861426, 1.01930053, 1.01923845, 1.0193449 ,\n",
       "       1.01858828, 1.01924927, 1.01879102, 1.01801736, 1.01817121,\n",
       "       1.01670603, 1.01725773, 1.01722308, 1.01832172, 1.01855085,\n",
       "       1.01816155, 1.01899321, 1.01848744, 1.01969807, 1.01829204,\n",
       "       1.01737677, 1.01794259, 1.01896699, 1.02004779, 1.0193965 ,\n",
       "       1.01993263, 1.01920472, 1.01903497, 1.01949956, 1.02027115,\n",
       "       1.01875073, 1.01882986, 1.01781785, 1.01844951, 1.02002801,\n",
       "       1.0182559 , 1.0180925 , 1.01834854, 1.01804513, 1.01830794,\n",
       "       1.01844208, 1.01800098, 1.01853876, 1.01835307, 1.01952181,\n",
       "       1.01897921, 1.01957512, 1.01806319, 1.01925284, 1.01890619,\n",
       "       1.01834922, 1.01787595, 1.02015473, 1.01920045, 1.01885126,\n",
       "       1.01909331, 1.01917732, 1.0198622 , 1.01908185, 1.01838079,\n",
       "       1.01830244, 1.01806632, 1.01788251, 1.01878721, 1.01901146,\n",
       "       1.01864623, 1.01970511, 1.01854029, 1.01733919, 1.01933057,\n",
       "       1.01929688, 1.01879216, 1.01938799, 1.01902936, 1.02117131,\n",
       "       1.02033057, 1.01941208, 1.01954308, 1.02064957, 1.02070342,\n",
       "       1.01947447, 1.0199297 , 1.01967772, 1.02034953, 1.02062549,\n",
       "       1.02033211, 1.01892662, 1.01908496, 1.01807357, 1.01995365,\n",
       "       1.01959272, 1.01944934, 1.02000658, 1.01975287, 1.01922273,\n",
       "       1.01921839, 1.01818802, 1.01966965, 1.01865267, 1.01854907,\n",
       "       1.01881886, 1.01905638, 1.01878209, 1.01780348, 1.01831255,\n",
       "       1.0181812 , 1.01938332, 1.01772574, 1.01889879, 1.01821981,\n",
       "       1.01768443, 1.01823495, 1.01978057, 1.0192853 , 1.01931106,\n",
       "       1.01886006, 1.01734645, 1.01831187, 1.01784718, 1.01720906])"
      ]
     },
     "execution_count": 21,
     "metadata": {},
     "output_type": "execute_result"
    }
   ],
   "source": [
    "# check if the first column is the keff\n",
    "\n",
    "total_data[:,0]"
   ]
  },
  {
   "cell_type": "code",
   "execution_count": 22,
   "metadata": {},
   "outputs": [
    {
     "data": {
      "text/plain": [
       "[<matplotlib.lines.Line2D at 0x7fec797d9eb0>]"
      ]
     },
     "execution_count": 22,
     "metadata": {},
     "output_type": "execute_result"
    },
    {
     "data": {
      "image/png": "[encoded data removed]",
      "text/plain": [
       "<Figure size 640x480 with 1 Axes>"
      ]
     },
     "metadata": {},
     "output_type": "display_data"
    },
    {
     "data": {
      "image/png": "[encoded data removed]",
      "text/plain": [
       "<Figure size 640x480 with 1 Axes>"
      ]
     },
     "metadata": {},
     "output_type": "display_data"
    }
   ],
   "source": [
    "# check the power and threshold\n",
    "\n",
    "plt.plot(total_data[:,-1])\n",
    "plt.figure()\n",
    "plt.plot(total_data[:,-1])"
   ]
  },
  {
   "cell_type": "code",
   "execution_count": 23,
   "metadata": {},
   "outputs": [],
   "source": [
    "def shuffle_ndarray(arr, chunk_size=10):\n",
    "    num_chunks = arr.shape[0] // chunk_size  # 计算块的数量\n",
    "\n",
    "    # 将数组切片为长度为 chunk_size 的块\n",
    "    chunks = np.split(arr[:num_chunks*chunk_size], num_chunks)\n",
    "\n",
    "    # 对块的索引进行洗牌（shuffle）\n",
    "    shuffled_indices = np.arange(num_chunks)\n",
    "    np.random.shuffle(shuffled_indices)\n",
    "\n",
    "    # 根据洗牌后的索引重新排序块\n",
    "    shuffled_chunks = [chunks[i] for i in shuffled_indices]\n",
    "\n",
    "    # 将洗牌后的块重新合并为一个数组\n",
    "    shuffled_arr = np.concatenate(shuffled_chunks)\n",
    "\n",
    "    return shuffled_arr\n",
    "\n",
    "\n",
    "if shuffle:\n",
    "\n",
    "    total_data = shuffle_ndarray(total_data, 50)"
   ]
  },
  {
   "cell_type": "code",
   "execution_count": 24,
   "metadata": {},
   "outputs": [],
   "source": [
    "# Drop the data \n",
    "\n",
    "# Save the array as a CSV file\n",
    "np.savetxt(f'./HxF Data/{output_name}', total_data, delimiter=',')\n",
    "np.savetxt(f'./Processed Data/{output_name}', total_data, delimiter=',')"
   ]
  }
 ],
 "metadata": {
  "kernelspec": {
   "display_name": "base",
   "language": "python",
   "name": "python3"
  },
  "language_info": {
   "codemirror_mode": {
    "name": "ipython",
    "version": 3
   },
   "file_extension": ".py",
   "mimetype": "text/x-python",
   "name": "python",
   "nbconvert_exporter": "python",
   "pygments_lexer": "ipython3",
   "version": "3.9.13"
  },
  "orig_nbformat": 4,
  "vscode": {
   "interpreter": {
    "hash": "83d8af4ff1ccf0e43da2803a684c950e5c1874edeab0ee20d27ee23b5d3b3a9c"
   }
  }
 },
 "nbformat": 4,
 "nbformat_minor": 2
}
