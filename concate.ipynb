{
 "cells": [
  {
   "cell_type": "code",
   "execution_count": 6,
   "metadata": {},
   "outputs": [
    {
     "name": "stdout",
     "output_type": "stream",
     "text": [
      "(549, 322)\n",
      "(149, 322)\n",
      "(549, 322)\n",
      "(1247, 322)\n"
     ]
    }
   ],
   "source": [
    "import pandas as pd\n",
    "import numpy as np\n",
    "\n",
    "\n",
    "\n",
    "def shuffle_ndarray(arr, chunk_size=10):\n",
    "    num_chunks = arr.shape[0] // chunk_size  # 计算块的数量\n",
    "\n",
    "    # 将数组切片为长度为 chunk_size 的块\n",
    "    chunks = np.split(arr[:num_chunks*chunk_size], num_chunks)\n",
    "\n",
    "    # 对块的索引进行洗牌（shuffle）\n",
    "    shuffled_indices = np.arange(num_chunks)\n",
    "    np.random.shuffle(shuffled_indices)\n",
    "\n",
    "    # 根据洗牌后的索引重新排序块\n",
    "    shuffled_chunks = [chunks[i] for i in shuffled_indices]\n",
    "\n",
    "    # 将洗牌后的块重新合并为一个数组\n",
    "    shuffled_arr = np.concatenate(shuffled_chunks)\n",
    "\n",
    "    return shuffled_arr\n",
    "\n",
    "def concat_csv_files(input_paths, output_path, shuffle):\n",
    "    # 创建一个空的列表用于存储所有 CSV 文件的内容\n",
    "    combined_data = []\n",
    "\n",
    "    # 循环读取每个 CSV 文件并将其转换为 NumPy 数组，然后追加到 combined_data 中\n",
    "    for path in input_paths:\n",
    "        # 使用 pandas 读取 CSV 文件\n",
    "        df = pd.read_csv(path)\n",
    "        print(df.shape)\n",
    "\n",
    "        # 将当前 CSV 文件的数据转换为 NumPy 数组并追加到 combined_data 中\n",
    "        combined_data.append(df.values)\n",
    "\n",
    "    # 将合并后的数据转换为 NumPy 数组并写入到输出文件\n",
    "    combined_data = np.vstack(combined_data)\n",
    "    print(combined_data.shape)\n",
    "\n",
    "    if shuffle:\n",
    "        combined_data = shuffle_ndarray(combined_data)\n",
    "\n",
    "    np.savetxt(output_path, combined_data, delimiter=',', fmt='%s')\n",
    "\n",
    "# 示例用法\n",
    "\n",
    "shuffle = True\n",
    "input_files = ['./Processed Data/HxF_90pow_offset_20_shuffle.csv', './Processed Data/HxF_100pow_offset_20_shuffle.csv', './Processed Data/HxF_110pow_offset_20_shuffle.csv']  # 替换成你的实际文件路径\n",
    "output_file = './Processed Data/HxF_three_shuffle.csv'  # 替换成你的输出文件路径\n",
    "\n",
    "\n",
    "# input_files = ['./Processed Data/HxF_90pow_offset_20.csv', './Processed Data/HxF_100pow_offset_20.csv', './Processed Data/HxF_110pow_offset_20.csv']  # 替换成你的实际文件路径\n",
    "# output_file = './Processed Data/HxF_three.csv'  # 替换成你的输出文件路径\n",
    "\n",
    "concat_csv_files(input_files, output_file, shuffle)\n"
   ]
  },
  {
   "cell_type": "code",
   "execution_count": null,
   "metadata": {},
   "outputs": [],
   "source": []
  }
 ],
 "metadata": {
  "kernelspec": {
   "display_name": "base",
   "language": "python",
   "name": "python3"
  },
  "language_info": {
   "codemirror_mode": {
    "name": "ipython",
    "version": 3
   },
   "file_extension": ".py",
   "mimetype": "text/x-python",
   "name": "python",
   "nbconvert_exporter": "python",
   "pygments_lexer": "ipython3",
   "version": "3.10.9"
  }
 },
 "nbformat": 4,
 "nbformat_minor": 2
}
