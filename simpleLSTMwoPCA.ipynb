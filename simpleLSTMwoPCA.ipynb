{
 "cells": [
  {
   "cell_type": "code",
   "execution_count": 1,
   "metadata": {
    "id": "xe7ZFAr0zLUl"
   },
   "outputs": [],
   "source": [
    "# this code is written by Changyi Yang used for DS Discovery program\n",
    "\n",
    "import torch.nn as nn\n",
    "import torch\n",
    "from torch.utils.data import Dataset, DataLoader\n",
    "import torch.optim as optim\n",
    "\n",
    "import pandas as pd"
   ]
  },
  {
   "cell_type": "code",
   "execution_count": 2,
   "metadata": {},
   "outputs": [
    {
     "data": {
      "text/plain": [
       "'1.13.1'"
      ]
     },
     "execution_count": 2,
     "metadata": {},
     "output_type": "execute_result"
    }
   ],
   "source": [
    "torch. __version__"
   ]
  },
  {
   "cell_type": "code",
   "execution_count": 3,
   "metadata": {
    "colab": {
     "base_uri": "https://localhost:8080/"
    },
    "id": "lVMIaIKN3WwS",
    "outputId": "fd0a21e4-3b16-4a4a-9b43-b5a8feb9c042"
   },
   "outputs": [],
   "source": [
    "# from google.colab import drive\n",
    "# drive.mount('/content/drive', force_remount=True)\n",
    "# %cd /content/drive/Shareddrives/PebbleReactorProject/Data"
   ]
  },
  {
   "cell_type": "code",
   "execution_count": 4,
   "metadata": {
    "id": "hX4XY0--zLUn"
   },
   "outputs": [],
   "source": [
    "# define the dataset classes\n",
    "from sklearn.preprocessing import StandardScaler, MinMaxScaler\n",
    "\n",
    "\n",
    "class ReactorData(Dataset):\n",
    "    def __init__(self,file_name, sequence_length, start_percent = 0, end_percent = 1):\n",
    "        data = pd.read_csv(file_name, skiprows=[0]) # skip the first line\n",
    "        \n",
    "        length = data.shape[0]\n",
    "        data = data[ int(length * start_percent)  : int(length * end_percent)]\n",
    "        \n",
    "        # print(data.shape)\n",
    "        \n",
    "        self.labels = data.iloc[:, -1:]\n",
    "        self.data = data.iloc[:, 1:-1] # skip the first time column\n",
    "        \n",
    "        mm = MinMaxScaler()\n",
    "        ss = StandardScaler()\n",
    "\n",
    "\n",
    "        self.data = ss.fit_transform(self.data)\n",
    "        self.labels = mm.fit_transform(self.labels) \n",
    "        \n",
    "        self.sequence_length = sequence_length\n",
    "        \n",
    "    def __len__(self):\n",
    "        return len(self.labels)//self.sequence_length\n",
    "    \n",
    "    def __getitem__(self,idx):\n",
    "        idx = idx * self.sequence_length\n",
    "        \n",
    "        return (torch.tensor(self.data[idx : idx+ self.sequence_length])).double(), \\\n",
    "    (torch.tensor(self.labels[idx : idx+ self.sequence_length])).double()\n",
    "\n",
    "        "
   ]
  },
  {
   "cell_type": "code",
   "execution_count": 5,
   "metadata": {
    "id": "p7MGcyurzLUn"
   },
   "outputs": [],
   "source": [
    "# load the data\n",
    "training_data = ReactorData('data_PBMR_400.csv', sequence_length= 10, start_percent= 0, end_percent= 0.75)\n",
    "testing_data = ReactorData('data_PBMR_400.csv', sequence_length= 10, start_percent= 0.75, end_percent= 1)\n"
   ]
  },
  {
   "cell_type": "code",
   "execution_count": 6,
   "metadata": {
    "id": "AK4tjCHtzLUo"
   },
   "outputs": [],
   "source": [
    "# print(training_data[0][1])\n",
    "# print(training_data[0][0].shape)\n",
    "# print(training_data[0][1].shape)\n",
    "\n",
    "# print(len(training_data[0]))\n",
    "# print(len(training_data))"
   ]
  },
  {
   "cell_type": "code",
   "execution_count": 15,
   "metadata": {
    "id": "RyAnlsI4zLUo"
   },
   "outputs": [],
   "source": [
    "# define the neural nets\n",
    "class SimpleLSTM(nn.Module):\n",
    "    def __init__(self, input_dim, hidden_dim, output_dim, lstm_nums_layer, dropout):\n",
    "        super().__init__()\n",
    "        self.input_dim = input_dim\n",
    "        self.hidden_dim = hidden_dim\n",
    "        self.output_dim = output_dim\n",
    "        \n",
    "        \n",
    "        self.LSTM = nn.LSTM(input_dim, hidden_dim, lstm_nums_layer, batch_first = True)\n",
    "        self.dropout = nn.Dropout(dropout)\n",
    "        \n",
    "        self.hidden_to_output = nn.Linear(hidden_dim, output_dim)\n",
    "        \n",
    "    def forward(self, input):\n",
    "        # print(input.shape)\n",
    "        \n",
    "        hidden_state, _ = self.LSTM(input)\n",
    "        \n",
    "        # print(hidden_state.shape)\n",
    "        \n",
    "        output = self.hidden_to_output(hidden_state)\n",
    "        output = self.dropout(output)\n",
    "        \n",
    "        return output\n",
    "    \n",
    "    \n"
   ]
  },
  {
   "cell_type": "code",
   "execution_count": 16,
   "metadata": {
    "id": "-9d-4dATzLUo"
   },
   "outputs": [
    {
     "name": "stdout",
     "output_type": "stream",
     "text": [
      "The loss is 0.0819069545321226 in epoch 0\n",
      "The loss is 0.023543958465275645 in epoch 5\n",
      "The loss is 0.01729930908353245 in epoch 10\n",
      "The loss is 0.00894685131601709 in epoch 15\n",
      "The loss is 0.0013855009440993738 in epoch 20\n",
      "The loss is 0.01057615691048205 in epoch 25\n",
      "The loss is 0.026610764280765857 in epoch 30\n",
      "The loss is 0.020621578206885732 in epoch 35\n",
      "The loss is 0.009771098546007658 in epoch 40\n",
      "The loss is 0.009713875239364619 in epoch 45\n",
      "The loss is 0.0068810061822392795 in epoch 50\n",
      "The loss is 0.015385450781503668 in epoch 55\n",
      "The loss is 0.00593480258220227 in epoch 60\n",
      "The loss is 0.026619062082162286 in epoch 65\n",
      "The loss is 0.006281678829355729 in epoch 70\n",
      "The loss is 0.0042363211881969315 in epoch 75\n",
      "The loss is 0.02370349674974012 in epoch 80\n",
      "The loss is 0.02117909520305312 in epoch 85\n",
      "The loss is 0.008587394121124445 in epoch 90\n",
      "The loss is 0.0062529409382303 in epoch 95\n",
      "The loss is 0.012686417821759138 in epoch 100\n",
      "The loss is 0.014259583496882769 in epoch 105\n",
      "The loss is 0.01084306961341049 in epoch 110\n",
      "The loss is 0.017354378513731995 in epoch 115\n",
      "The loss is 0.011080134022367549 in epoch 120\n",
      "The loss is 0.016320453662378435 in epoch 125\n",
      "The loss is 0.007431150443858417 in epoch 130\n",
      "The loss is 0.01828064389015997 in epoch 135\n",
      "The loss is 0.015199766367223788 in epoch 140\n",
      "The loss is 0.025081492324954758 in epoch 145\n",
      "The loss is 0.02564303249993191 in epoch 150\n",
      "The loss is 0.01738509440733612 in epoch 155\n",
      "The loss is 0.007802282720002432 in epoch 160\n",
      "The loss is 0.01722067008600962 in epoch 165\n",
      "The loss is 0.015845173625949942 in epoch 170\n",
      "The loss is 0.004062299475907515 in epoch 175\n",
      "The loss is 0.01697655542835149 in epoch 180\n",
      "The loss is 1.1878116953428842e-05 in epoch 185\n",
      "The loss is 0.007347267639362045 in epoch 190\n",
      "The loss is 0.020062485868212902 in epoch 195\n",
      "The training is ended, the final loss is 0.018418598661547873.\n",
      "Bye\n"
     ]
    }
   ],
   "source": [
    "# train the model\n",
    "\n",
    "input_dim = training_data[0][0].shape[1]\n",
    "output_dim = training_data[0][1].shape[1]\n",
    "\n",
    "\n",
    "# print(output_dim)\n",
    "\n",
    "# some adjustable hyper-parameters\n",
    "hidden_dim = 64\n",
    "num_hidden_layers = 1\n",
    "batch_size = 5\n",
    "learning_rate = 1e-3\n",
    "weight_decay = 1e-5\n",
    "epoch_num = 200\n",
    "dropout = 0.2\n",
    "\n",
    "model = SimpleLSTM(input_dim, hidden_dim, output_dim, num_hidden_layers, dropout)\n",
    "model = model.double()\n",
    "\n",
    "train_dataloader = DataLoader(training_data, batch_size = batch_size)\n",
    "\n",
    "\n",
    "# the chosn loss function and optimizer\n",
    "loss_fn = nn.MSELoss()\n",
    "optimizer = optim.Adam(model.parameters(), lr = learning_rate, weight_decay= weight_decay)\n",
    "\n",
    "\n",
    "\n",
    "for epoch in range(epoch_num):\n",
    "    \n",
    "    for batch, (X, y) in enumerate(train_dataloader):\n",
    "        \n",
    "\n",
    "        \n",
    "        model.zero_grad()\n",
    "        \n",
    "        pred = model(X)\n",
    "        \n",
    "        # print(X.shape)\n",
    "        # print(y.shape)\n",
    "        \n",
    "        loss = loss_fn(pred, y)\n",
    "        \n",
    "        # backpropagation\n",
    "        \n",
    "        loss.backward()\n",
    "        optimizer.step()\n",
    "        \n",
    "        loss = loss.item()\n",
    "        \n",
    "    if epoch % 5 == 0:\n",
    "        print(\"The loss is {} in epoch {}\".format(loss ,epoch))\n",
    "            \n",
    "\n",
    "print(f\"The training is ended, the final loss is {loss}.\")\n",
    "print(\"Bye\")"
   ]
  },
  {
   "cell_type": "code",
   "execution_count": 17,
   "metadata": {
    "id": "zahzhYfIzLUp"
   },
   "outputs": [
    {
     "data": {
      "text/plain": [
       "<matplotlib.legend.Legend at 0x7fb722679670>"
      ]
     },
     "execution_count": 17,
     "metadata": {},
     "output_type": "execute_result"
    },
    {
     "data": {
      "image/png": "[encoded data removed]",
      "text/plain": [
       "<Figure size 432x288 with 1 Axes>"
      ]
     },
     "metadata": {
      "needs_background": "light"
     },
     "output_type": "display_data"
    }
   ],
   "source": [
    "# visualize the training output\n",
    "\n",
    "import matplotlib.pyplot as plt\n",
    "\n",
    "\n",
    "X_train = (torch.tensor(training_data.data)).double()\n",
    "y_train = (torch.tensor(training_data.labels)).double()\n",
    "\n",
    "\n",
    "plt.figure()\n",
    "plt.plot(y_train, label = \"Real\")     \n",
    "plt.plot(model(X_train).detach().numpy(), label = \"Predict\")\n",
    "plt.legend()\n"
   ]
  },
  {
   "cell_type": "code",
   "execution_count": 18,
   "metadata": {
    "id": "yv9g1qAvzLUp"
   },
   "outputs": [
    {
     "name": "stdout",
     "output_type": "stream",
     "text": [
      "0.448653243357432\n"
     ]
    },
    {
     "data": {
      "text/plain": [
       "<matplotlib.legend.Legend at 0x7fb7222f84f0>"
      ]
     },
     "execution_count": 18,
     "metadata": {},
     "output_type": "execute_result"
    },
    {
     "data": {
      "image/png": "[encoded data removed]",
      "text/plain": [
       "<Figure size 432x288 with 1 Axes>"
      ]
     },
     "metadata": {
      "needs_background": "light"
     },
     "output_type": "display_data"
    }
   ],
   "source": [
    "# visualize the test output\n",
    "\n",
    "import matplotlib.pyplot as plt\n",
    "\n",
    "\n",
    "X_test = (torch.tensor(testing_data.data)).double()\n",
    "y_test = (torch.tensor(testing_data.labels)).double()\n",
    "\n",
    "y_pred = model(X_test)\n",
    "\n",
    "loss = nn.MSELoss()\n",
    "print(loss(y_pred, y_test).item())\n",
    "\n",
    "plt.figure()\n",
    "plt.plot(y_test, label = \"Real\")     \n",
    "plt.plot(y_pred.detach().numpy(), label = \"Predict\")\n",
    "plt.legend()"
   ]
  },
  {
   "cell_type": "code",
   "execution_count": 11,
   "metadata": {},
   "outputs": [],
   "source": []
  },
  {
   "cell_type": "code",
   "execution_count": null,
   "metadata": {},
   "outputs": [],
   "source": []
  }
 ],
 "metadata": {
  "colab": {
   "provenance": []
  },
  "kernelspec": {
   "display_name": "Python 3",
   "language": "python",
   "name": "python3"
  },
  "language_info": {
   "codemirror_mode": {
    "name": "ipython",
    "version": 3
   },
   "file_extension": ".py",
   "mimetype": "text/x-python",
   "name": "python",
   "nbconvert_exporter": "python",
   "pygments_lexer": "ipython3",
   "version": "3.8.8"
  },
  "vscode": {
   "interpreter": {
    "hash": "83d8af4ff1ccf0e43da2803a684c950e5c1874edeab0ee20d27ee23b5d3b3a9c"
   }
  }
 },
 "nbformat": 4,
 "nbformat_minor": 1
}
