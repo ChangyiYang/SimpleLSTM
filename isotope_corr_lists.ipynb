{
 "cells": [
  {
   "cell_type": "code",
   "execution_count": 1,
   "id": "ca2f50da",
   "metadata": {},
   "outputs": [],
   "source": [
    "import numpy as np\n",
    "import pandas as pd\n",
    "import matplotlib.pyplot as plt\n",
    "import sklearn\n",
    "from sklearn.decomposition import PCA\n",
    "from sklearn.preprocessing import StandardScaler"
   ]
  },
  {
   "cell_type": "code",
   "execution_count": 2,
   "id": "28ec33cd",
   "metadata": {},
   "outputs": [],
   "source": [
    "df = pd.read_csv(\"../restarts_dataframe/input.inp_650_0_cut1.0E-16.csv\")"
   ]
  },
  {
   "cell_type": "markdown",
   "id": "de80d6bf",
   "metadata": {},
   "source": [
    "## Low Correlation Isotopes ##"
   ]
  },
  {
   "cell_type": "code",
   "execution_count": 9,
   "id": "2ce738ac",
   "metadata": {},
   "outputs": [
    {
     "data": {
      "text/plain": [
       "Index(['H1', 'H3', 'Li7', 'C12', 'C14', 'Cu67', 'As76', 'Br82', 'Rb84', 'Rb86',\n",
       "       'Sr89', 'Y88', 'Nb96', 'Mo94', 'Tc98', 'Tc100', 'Tc107', 'Rh102',\n",
       "       'Rh104', 'Cd113', 'Sn117m', 'Sb122', 'Te129m', 'I126', 'I128', 'Xe131m',\n",
       "       'Xe135', 'Cs132', 'Cs134m', 'Cs136', 'Ce138', 'Pr144m', 'Pm146',\n",
       "       'Pm148', 'Pm148m', 'Sm149', 'Sm151', 'Sm153', 'Eu151', 'Eu152', 'Gd155',\n",
       "       'Gd157', 'Th234', 'U234', 'U237', 'U239'],\n",
       "      dtype='object')"
      ]
     },
     "execution_count": 9,
     "metadata": {},
     "output_type": "execute_result"
    }
   ],
   "source": [
    "# REMOVES COLUMNS THAT HAVE STRONG CORR WITH ANY OTHERS\n",
    "# I don't think this works rn man\n",
    "\n",
    "# Create correlation matrix\n",
    "corr_matrix = df.corr().abs()\n",
    "\n",
    "# Select upper triangle of correlation matrix\n",
    "upper = corr_matrix.where(np.triu(np.ones(corr_matrix.shape), k=1).astype(bool))\n",
    "\n",
    "# Find features with correlation greater than 0.95\n",
    "to_drop = [column for column in upper.columns if any(upper[column] > 0.95)]\n",
    "\n",
    "# Drop features\n",
    "low_corr = df.drop(to_drop, axis=1, inplace=False).iloc[:,3:]\n",
    "low_corr.iloc[:,3:].corr().abs()\n",
    "list_of_isotopes_with_low_corr = low_corr.columns\n",
    "list_of_isotopes_with_low_corr"
   ]
  },
  {
   "cell_type": "code",
   "execution_count": 10,
   "id": "c46716be",
   "metadata": {},
   "outputs": [
    {
     "data": {
      "text/plain": [
       "Index(['H1', 'H3', 'Li7', 'C12', 'C14', 'Cu67', 'As76', 'Br82', 'Rb84', 'Rb86',\n",
       "       'Sr89', 'Y88', 'Nb96', 'Mo94', 'Tc98', 'Tc100', 'Tc107', 'Rh102',\n",
       "       'Rh104', 'Cd113', 'Sn117m', 'Sb122', 'Te129m', 'I126', 'I128', 'Xe131m',\n",
       "       'Xe135', 'Cs132', 'Cs134m', 'Cs136', 'Ce138', 'Pr144m', 'Pm146',\n",
       "       'Pm148', 'Pm148m', 'Sm149', 'Sm151', 'Sm153', 'Eu151', 'Eu152', 'Gd155',\n",
       "       'Gd157', 'Th234', 'U234', 'U237', 'U239'],\n",
       "      dtype='object')"
      ]
     },
     "execution_count": 10,
     "metadata": {},
     "output_type": "execute_result"
    }
   ],
   "source": [
    "list_of_isotopes_with_low_corr"
   ]
  },
  {
   "cell_type": "markdown",
   "id": "b58cc42e",
   "metadata": {},
   "source": [
    "## High Correlation, High Concentration Isotopes ##"
   ]
  },
  {
   "cell_type": "code",
   "execution_count": 40,
   "id": "cd607185",
   "metadata": {},
   "outputs": [],
   "source": [
    "trimmed_df = df.iloc[:,4:]\n",
    "columns = trimmed_df.columns\n",
    "been_removed = dict.fromkeys(columns,0)"
   ]
  },
  {
   "cell_type": "code",
   "execution_count": 41,
   "id": "a7470f6a",
   "metadata": {},
   "outputs": [],
   "source": [
    "# compares columns that haven't yet been removed\n",
    "# if the columns are highly correlated (corr >= 0.90) then the column with a lower mean absolute value is deleted\n",
    "# the higher column is kept. \n",
    "correlations = []\n",
    "strong_corr = pd.DataFrame()\n",
    "for column_1 in columns:\n",
    "    if been_removed[column_1] == 0:\n",
    "        for column_2 in columns:\n",
    "            if been_removed[column_2] == 0:\n",
    "                if column_1 != column_2:\n",
    "                    corr = trimmed_df[column_1].corr(trimmed_df[column_2])\n",
    "                    if corr > 0.95 or corr < -0.95:\n",
    "                        col_1_val = np.mean(np.absolute(trimmed_df[column_1]))\n",
    "                        col_2_val = np.mean(np.absolute(trimmed_df[column_2]))\n",
    "                        if col_1_val > col_2_val:\n",
    "                            been_removed[column_2] = 1\n",
    "                        else:\n",
    "                            been_removed[column_1] = 1\n",
    "\n",
    "\n",
    "                    "
   ]
  },
  {
   "cell_type": "code",
   "execution_count": 47,
   "id": "3530d7c0",
   "metadata": {
    "scrolled": true
   },
   "outputs": [],
   "source": [
    "filtered_corr = pd.DataFrame()\n",
    "for isotope in been_removed:\n",
    "    if been_removed[isotope] == 0:\n",
    "        filtered_corr[isotope] = trimmed_df[isotope]\n",
    "filtered_corr\n",
    "list_of_high_corr_and_concentration_isotopes = filtered_corr.columns"
   ]
  },
  {
   "cell_type": "markdown",
   "id": "4d5a12d0",
   "metadata": {},
   "source": [
    "## Results ##"
   ]
  },
  {
   "cell_type": "code",
   "execution_count": 54,
   "id": "cf43dc7c",
   "metadata": {},
   "outputs": [
    {
     "data": {
      "text/plain": [
       "Index(['Ag111', 'As76', 'Ba135', 'Br82', 'C12', 'C14', 'Cd113', 'Ce138',\n",
       "       'Ce139', 'Ce141', 'Cs132', 'Cs134m', 'Cs136', 'Cu67', 'Eu151', 'Eu152',\n",
       "       'Eu156', 'Eu157', 'Gd155', 'Gd157', 'H1', 'H3', 'I126', 'I128', 'Li7',\n",
       "       'Mo94', 'Nb95', 'Nb96', 'Nd144', 'Np238', 'Np239', 'O16', 'Pd109',\n",
       "       'Pd112', 'Pm146', 'Pm148', 'Pm148m', 'Pr142', 'Pr143', 'Pr144m',\n",
       "       'Pu239', 'Rb84', 'Rb86', 'Rh102', 'Rh104', 'Rh105', 'Sb122', 'Sb124',\n",
       "       'Sm149', 'Sm151', 'Sm153', 'Sn117m', 'Sn125', 'Sr89', 'Tc100', 'Tc107',\n",
       "       'Tc98', 'Te129m', 'Th234', 'U234', 'U237', 'U239', 'Xe131m', 'Xe133',\n",
       "       'Xe135', 'Y88', 'Zr95'],\n",
       "      dtype='object')"
      ]
     },
     "execution_count": 54,
     "metadata": {},
     "output_type": "execute_result"
    }
   ],
   "source": [
    "isotopes_of_interest = list_of_high_corr_and_concentration_isotopes.union(list_of_isotopes_with_low_corr)\n",
    "isotopes_of_interest"
   ]
  }
 ],
 "metadata": {
  "kernelspec": {
   "display_name": "Python 3 (ipykernel)",
   "language": "python",
   "name": "python3"
  },
  "language_info": {
   "codemirror_mode": {
    "name": "ipython",
    "version": 3
   },
   "file_extension": ".py",
   "mimetype": "text/x-python",
   "name": "python",
   "nbconvert_exporter": "python",
   "pygments_lexer": "ipython3",
   "version": "3.9.12"
  }
 },
 "nbformat": 4,
 "nbformat_minor": 5
}
