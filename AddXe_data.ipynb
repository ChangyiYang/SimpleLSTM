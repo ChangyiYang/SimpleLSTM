{
 "cells": [
  {
   "cell_type": "code",
   "execution_count": 117,
   "metadata": {},
   "outputs": [],
   "source": [
    "# This file is aimed to add Xe to the model and see if the model can be improved\n",
    "from src.DataPrepocessing import *\n",
    "from src.NeuralNets import *\n",
    "from src.TrainMethod import *\n",
    "\n",
    "import matplotlib.pyplot as plt\n",
    "import torch.optim as optim\n",
    "import torch.nn as nn\n",
    "import pandas as pd\n",
    "from sklearn.preprocessing import StandardScaler"
   ]
  },
  {
   "attachments": {},
   "cell_type": "markdown",
   "metadata": {},
   "source": [
    "# Data Propocessing"
   ]
  },
  {
   "attachments": {},
   "cell_type": "markdown",
   "metadata": {},
   "source": [
    "This part will generate a file with following parts\n",
    "* Keff\n",
    "* Power\n",
    "* Threshold\n",
    "* Histogramed Cs\n",
    "* Histogramed Xe"
   ]
  },
  {
   "attachments": {},
   "cell_type": "markdown",
   "metadata": {},
   "source": []
  },
  {
   "cell_type": "code",
   "execution_count": 118,
   "metadata": {},
   "outputs": [],
   "source": [
    "method = '_training'\n",
    "core_name = 'core' + method\n",
    "Cs_name = 'Cs' + method\n",
    "Xe_name = 'Xe' + method\n",
    "output_name = 'Cs_Xe_shuffle' + method\n",
    "mode = \"CsXe\"\n",
    "shuffle = True"
   ]
  },
  {
   "cell_type": "code",
   "execution_count": 119,
   "metadata": {},
   "outputs": [
    {
     "data": {
      "text/plain": [
       "(1400, 10)"
      ]
     },
     "execution_count": 119,
     "metadata": {},
     "output_type": "execute_result"
    }
   ],
   "source": [
    "# First, get the keff power and threshold from tracked_results.csv\n",
    "\n",
    "core_file = pd.read_csv(f\"./Raw Data/Add Xe/{core_name}.csv\")\n",
    "core_file.shape"
   ]
  },
  {
   "cell_type": "code",
   "execution_count": 120,
   "metadata": {},
   "outputs": [
    {
     "data": {
      "text/plain": [
       "[<matplotlib.lines.Line2D at 0x13623e6abf0>]"
      ]
     },
     "execution_count": 120,
     "metadata": {},
     "output_type": "execute_result"
    },
    {
     "data": {
      "image/png": "[encoded data removed]",
      "text/plain": [
       "<Figure size 640x480 with 1 Axes>"
      ]
     },
     "metadata": {},
     "output_type": "display_data"
    }
   ],
   "source": [
    "extract_columns = [\"keff\", \"power_normalization_value\", \"threshold\"]\n",
    "core_data = core_file[extract_columns].to_numpy()\n",
    "core_data.shape\n",
    "import matplotlib.pyplot as plt\n",
    "plt.plot(core_data[:,2])"
   ]
  },
  {
   "cell_type": "code",
   "execution_count": 121,
   "metadata": {},
   "outputs": [],
   "source": [
    "# get the histogramed version of Cs and Xe\n",
    "\n",
    "def generate_histogram(data: np.ndarray, binInt = 1.0e-06, binMax = 1.5e-04):\n",
    "    '''\n",
    "    Take in a data with columns are features  Transform the features with histogram method\n",
    "    '''\n",
    "\n",
    "    # Extract data\n",
    "    Xvals = data\n",
    "\n",
    "    nRows, nCols = Xvals.shape\n",
    "\n",
    "    # define bins\n",
    "    hEdges = np.arange(0, binMax+binInt, binInt)\n",
    "    nBins = len(hEdges)-1\n",
    "\n",
    "\n",
    "    # fill histogram matrix\n",
    "    nCountsX = np.zeros((nRows, nBins), dtype=np.uint16)\n",
    "    for n in range(nRows):\n",
    "        nCountsX[n,:], _ = np.histogram(Xvals[n,:], hEdges)\n",
    "    return nCountsX"
   ]
  },
  {
   "cell_type": "code",
   "execution_count": 122,
   "metadata": {},
   "outputs": [
    {
     "name": "stdout",
     "output_type": "stream",
     "text": [
      "(1400, 150)\n",
      "(1400, 150)\n"
     ]
    }
   ],
   "source": [
    "Cs137_file = pd.read_csv(f\"./Raw Data/Add Xe/{Cs_name}.csv\").to_numpy()\n",
    "Xe135_file = pd.read_csv(f\"./Raw Data/Add Xe/{Xe_name}.csv\").to_numpy()\n",
    "\n",
    "\n",
    "histogramed_Cs137 = generate_histogram(Cs137_file)\n",
    "histogramed_Xe135 = generate_histogram(Xe135_file)\n",
    "\n",
    "\n",
    "print(histogramed_Cs137.shape)\n",
    "print(histogramed_Xe135.shape)"
   ]
  },
  {
   "cell_type": "code",
   "execution_count": 123,
   "metadata": {},
   "outputs": [
    {
     "name": "stdout",
     "output_type": "stream",
     "text": [
      "(1399, 3)\n",
      "(1399, 150)\n",
      "(1399, 150)\n"
     ]
    }
   ],
   "source": [
    "# do the time align\n",
    "# although it does not have a clear effect on the result\n",
    "\n",
    "core_data = core_data[1:]\n",
    "\n",
    "histogramed_Cs137 = histogramed_Cs137[:-1]\n",
    "histogramed_Xe135 = histogramed_Xe135[:-1]\n",
    "\n",
    "print(core_data.shape)\n",
    "print(histogramed_Cs137.shape)\n",
    "print(histogramed_Xe135.shape)"
   ]
  },
  {
   "cell_type": "code",
   "execution_count": 124,
   "metadata": {},
   "outputs": [
    {
     "data": {
      "text/plain": [
       "(1399, 303)"
      ]
     },
     "execution_count": 124,
     "metadata": {},
     "output_type": "execute_result"
    }
   ],
   "source": [
    "if mode == 'CsXe':\n",
    "    total_data = np.concatenate((core_data, histogramed_Cs137, histogramed_Xe135), axis=1)\n",
    "if mode == 'Cs':\n",
    "    total_data = np.concatenate((core_data, histogramed_Cs137), axis=1)\n",
    "total_data.shape"
   ]
  },
  {
   "cell_type": "code",
   "execution_count": 125,
   "metadata": {},
   "outputs": [
    {
     "data": {
      "text/plain": [
       "array([0.97098439, 0.97657594, 0.97917511, ..., 0.95723952, 0.95741404,\n",
       "       0.95555552])"
      ]
     },
     "execution_count": 125,
     "metadata": {},
     "output_type": "execute_result"
    }
   ],
   "source": [
    "# check if the first column is the keff\n",
    "\n",
    "total_data[:,0]"
   ]
  },
  {
   "cell_type": "code",
   "execution_count": 126,
   "metadata": {},
   "outputs": [
    {
     "data": {
      "text/plain": [
       "[<matplotlib.lines.Line2D at 0x1362635f040>]"
      ]
     },
     "execution_count": 126,
     "metadata": {},
     "output_type": "execute_result"
    },
    {
     "data": {
      "image/png": "[encoded data removed]",
      "text/plain": [
       "<Figure size 640x480 with 1 Axes>"
      ]
     },
     "metadata": {},
     "output_type": "display_data"
    },
    {
     "data": {
      "image/png": "[encoded data removed]",
      "text/plain": [
       "<Figure size 640x480 with 1 Axes>"
      ]
     },
     "metadata": {},
     "output_type": "display_data"
    }
   ],
   "source": [
    "# check the power and threshold\n",
    "\n",
    "plt.plot(total_data[:,1])\n",
    "plt.figure()\n",
    "plt.plot(total_data[:,2])"
   ]
  },
  {
   "cell_type": "code",
   "execution_count": 127,
   "metadata": {},
   "outputs": [],
   "source": [
    "def shuffle_ndarray(arr, chunk_size=10):\n",
    "    num_chunks = arr.shape[0] // chunk_size  # 计算块的数量\n",
    "\n",
    "    # 将数组切片为长度为 chunk_size 的块\n",
    "    chunks = np.split(arr[:num_chunks*chunk_size], num_chunks)\n",
    "\n",
    "    # 对块的索引进行洗牌（shuffle）\n",
    "    shuffled_indices = np.arange(num_chunks)\n",
    "    np.random.shuffle(shuffled_indices)\n",
    "\n",
    "    # 根据洗牌后的索引重新排序块\n",
    "    shuffled_chunks = [chunks[i] for i in shuffled_indices]\n",
    "\n",
    "    # 将洗牌后的块重新合并为一个数组\n",
    "    shuffled_arr = np.concatenate(shuffled_chunks)\n",
    "\n",
    "    return shuffled_arr\n",
    "\n",
    "\n",
    "if shuffle:\n",
    "\n",
    "    total_data = shuffle_ndarray(total_data, 50)"
   ]
  },
  {
   "cell_type": "code",
   "execution_count": 128,
   "metadata": {},
   "outputs": [],
   "source": [
    "# Drop the data \n",
    "\n",
    "# Save the array as a CSV file\n",
    "np.savetxt(f'./Processed Data/{output_name}.csv', total_data, delimiter=',')"
   ]
  }
 ],
 "metadata": {
  "kernelspec": {
   "display_name": "base",
   "language": "python",
   "name": "python3"
  },
  "language_info": {
   "codemirror_mode": {
    "name": "ipython",
    "version": 3
   },
   "file_extension": ".py",
   "mimetype": "text/x-python",
   "name": "python",
   "nbconvert_exporter": "python",
   "pygments_lexer": "ipython3",
   "version": "3.10.9"
  },
  "orig_nbformat": 4
 },
 "nbformat": 4,
 "nbformat_minor": 2
}
