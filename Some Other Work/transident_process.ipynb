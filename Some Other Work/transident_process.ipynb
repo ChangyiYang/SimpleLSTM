{
 "cells": [
  {
   "cell_type": "code",
   "execution_count": 26,
   "metadata": {},
   "outputs": [],
   "source": [
    "# This notebook is aimed to deal with the transiant state, specifically the \"easy\" data"
   ]
  },
  {
   "cell_type": "code",
   "execution_count": 27,
   "metadata": {},
   "outputs": [],
   "source": [
    "from DataPrepocessing import *\n",
    "from NeuralNets import *\n",
    "from TrainMethod import *\n",
    "\n",
    "import matplotlib.pyplot as plt\n",
    "import torch.optim as optim\n",
    "import torch.nn as nn\n",
    "import pandas as pd\n",
    "from sklearn.preprocessing import StandardScaler"
   ]
  },
  {
   "cell_type": "markdown",
   "metadata": {},
   "source": [
    "### Some pre-defined parameters"
   ]
  },
  {
   "cell_type": "code",
   "execution_count": 28,
   "metadata": {},
   "outputs": [],
   "source": [
    "sequence_length = 10\n",
    "batch_size = 16"
   ]
  },
  {
   "cell_type": "code",
   "execution_count": 29,
   "metadata": {},
   "outputs": [],
   "source": [
    "# first,read the data and do some data analysis"
   ]
  },
  {
   "cell_type": "markdown",
   "metadata": {},
   "source": [
    "### Do the data prepocessing"
   ]
  },
  {
   "cell_type": "code",
   "execution_count": 30,
   "metadata": {},
   "outputs": [],
   "source": [
    "def process(df):\n",
    "    # read in a pandas frame, remove the keff_relative_uncertainty and keff_absolute_uncertainty\n",
    "    # return the keff and the data columns\n",
    "\n",
    "    df = df.drop('keff_relative_uncertainty',axis = 1)\n",
    "    df = df.drop('keff_absolute_uncertainty', axis = 1)\n",
    "\n",
    "    keff = df.pop('keff')\n",
    "\n",
    "    # print(type(df))\n",
    "\n",
    "    return keff, df"
   ]
  },
  {
   "cell_type": "code",
   "execution_count": 31,
   "metadata": {},
   "outputs": [],
   "source": [
    "def generate_histogram(data: np.ndarray, binInt = 1.0e-06, binMax = 1.5e-04):\n",
    "    '''\n",
    "    Take in a data with columns are features  Transform the features with histogram method\n",
    "    '''\n",
    "\n",
    "    # Extract data\n",
    "    Xvals = data\n",
    "\n",
    "    nRows, nCols = Xvals.shape\n",
    "\n",
    "    # define bins\n",
    "    hEdges = np.arange(0, binMax+binInt, binInt)\n",
    "    nBins = len(hEdges)-1\n",
    "\n",
    "\n",
    "    # fill histogram matrix\n",
    "    nCountsX = np.zeros((nRows, nBins), dtype=np.uint16)\n",
    "    for n in range(nRows):\n",
    "        nCountsX[n,:], _ = np.histogram(Xvals[n,:], hEdges)\n",
    "    return nCountsX"
   ]
  },
  {
   "cell_type": "code",
   "execution_count": 32,
   "metadata": {},
   "outputs": [
    {
     "data": {
      "text/plain": [
       "'\\na reminder, shoule we remove the first column since all cs is 0?\\n'"
      ]
     },
     "execution_count": 32,
     "metadata": {},
     "output_type": "execute_result"
    }
   ],
   "source": [
    "'''\n",
    "a reminder, shoule we remove the first column since all cs is 0?\n",
    "'''"
   ]
  },
  {
   "cell_type": "code",
   "execution_count": 33,
   "metadata": {},
   "outputs": [
    {
     "data": {
      "text/plain": [
       "Index(['time', 'passes', 'recirculated', 'discarded', 'keff',\n",
       "       'keff_relative_uncertainty', 'keff_absolute_uncertainty',\n",
       "       'neutrons_per_cycle', 'power_normalization_value', 'DEM_step_increment',\n",
       "       'threshold', 'time_step'],\n",
       "      dtype='object')"
      ]
     },
     "execution_count": 33,
     "metadata": {},
     "output_type": "execute_result"
    }
   ],
   "source": [
    "tracked_file = pd.read_csv('./data/cycle_990_easy.csv', index_col= 0)\n",
    "tracked_file.columns"
   ]
  },
  {
   "cell_type": "code",
   "execution_count": 34,
   "metadata": {},
   "outputs": [],
   "source": [
    "power = tracked_file['power_normalization_value'] / 1e7\n",
    "threshold = tracked_file['threshold'] / 72"
   ]
  },
  {
   "cell_type": "code",
   "execution_count": 35,
   "metadata": {},
   "outputs": [],
   "source": [
    "def add_Power_and_Threshold(all_data, tracked_filename):\n",
    "\n",
    "    tracked_file = pd.read_csv(tracked_filename, index_col= 0)\n",
    "    \n",
    "    power = tracked_file['power_normalization_value'] / 1e7\n",
    "    threshold = tracked_file['threshold'] / 72\n",
    "    \n",
    "    power = power.to_numpy()[:-1]\n",
    "    threshold = threshold.to_numpy()[:-1]\n",
    "    \n",
    "    \n",
    "    all_data = np.insert(all_data, 0, power, axis=1)\n",
    "    all_data = np.insert(all_data, 0, threshold, axis=1)\n",
    "    \n",
    "    return all_data"
   ]
  },
  {
   "cell_type": "code",
   "execution_count": 36,
   "metadata": {},
   "outputs": [],
   "source": [
    "# combine all the above step\n",
    "\n",
    "def get_data(filename, tracked_filename):\n",
    "    df = pd.read_csv(filename, index_col= 0)\n",
    "\n",
    "    keff, data = process(df)\n",
    "    hist_data = generate_histogram(data.to_numpy())\n",
    "\n",
    "    # delete the fist element in keff\n",
    "\n",
    "    keff = keff.to_numpy()\n",
    "    keff = keff[1:]\n",
    "    # print(keff.shape)\n",
    "\n",
    "    # delete the last row in hist_data\n",
    "\n",
    "    hist_data = hist_data[:-1]\n",
    "    # print(hist_data.shape)\n",
    "\n",
    "    all_data = np.append(hist_data, keff.reshape(-1,1), axis=1)\n",
    "    \n",
    "    all_data = add_Power_and_Threshold(all_data, tracked_filename)\n",
    "\n",
    "\n",
    "    all_data = all_data[: len(all_data)//sequence_length * sequence_length]\n",
    "\n",
    "\n",
    "\n",
    "    return all_data\n",
    "    \n"
   ]
  },
  {
   "cell_type": "code",
   "execution_count": 41,
   "metadata": {},
   "outputs": [],
   "source": [
    "first_run = get_data('./data/tracked_Cs137_1035.csv', './data/cycle_1035.csv')\n",
    "second_run = get_data('./data/tracked_Cs137_1306.csv','./data/cycle_1306.csv')"
   ]
  },
  {
   "cell_type": "code",
   "execution_count": 42,
   "metadata": {},
   "outputs": [
    {
     "name": "stdout",
     "output_type": "stream",
     "text": [
      "(1030, 153)\n",
      "(270, 153)\n"
     ]
    }
   ],
   "source": [
    "print(first_run.shape)\n",
    "print(second_run.shape)"
   ]
  },
  {
   "cell_type": "code",
   "execution_count": 43,
   "metadata": {},
   "outputs": [],
   "source": [
    "run_data = np.concatenate([first_run, second_run], axis = 0)"
   ]
  },
  {
   "cell_type": "code",
   "execution_count": 44,
   "metadata": {},
   "outputs": [
    {
     "data": {
      "text/plain": [
       "[<matplotlib.lines.Line2D at 0x7fb9965b0d60>]"
      ]
     },
     "execution_count": 44,
     "metadata": {},
     "output_type": "execute_result"
    },
    {
     "data": {
      "image/png": "[encoded data removed]",
      "text/plain": [
       "<Figure size 640x480 with 1 Axes>"
      ]
     },
     "metadata": {},
     "output_type": "display_data"
    }
   ],
   "source": [
    "import matplotlib.pyplot as plt\n",
    "\n",
    "plt.plot(run_data[:,-1])"
   ]
  },
  {
   "cell_type": "code",
   "execution_count": null,
   "metadata": {},
   "outputs": [],
   "source": [
    "np.savetxt('challenging_run.csv', run_data, delimiter= ',')"
   ]
  },
  {
   "cell_type": "code",
   "execution_count": null,
   "metadata": {},
   "outputs": [],
   "source": [
    "raise KeyError()"
   ]
  }
 ],
 "metadata": {
  "kernelspec": {
   "display_name": "base",
   "language": "python",
   "name": "python3"
  },
  "language_info": {
   "codemirror_mode": {
    "name": "ipython",
    "version": 3
   },
   "file_extension": ".py",
   "mimetype": "text/x-python",
   "name": "python",
   "nbconvert_exporter": "python",
   "pygments_lexer": "ipython3",
   "version": "3.9.13"
  },
  "vscode": {
   "interpreter": {
    "hash": "83d8af4ff1ccf0e43da2803a684c950e5c1874edeab0ee20d27ee23b5d3b3a9c"
   }
  }
 },
 "nbformat": 4,
 "nbformat_minor": 2
}
